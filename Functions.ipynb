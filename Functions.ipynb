{
 "cells": [
  {
   "cell_type": "code",
   "execution_count": 1,
   "metadata": {},
   "outputs": [],
   "source": [
    "def functions1():\n",
    "    print(\"Hello Function\")"
   ]
  },
  {
   "cell_type": "code",
   "execution_count": 2,
   "metadata": {},
   "outputs": [
    {
     "name": "stdout",
     "output_type": "stream",
     "text": [
      "Hello Function\n"
     ]
    }
   ],
   "source": [
    "functions1()"
   ]
  },
  {
   "cell_type": "code",
   "execution_count": 4,
   "metadata": {},
   "outputs": [],
   "source": [
    "def tableof2():\n",
    "    for x in range(10):\n",
    "        print(2*x)"
   ]
  },
  {
   "cell_type": "code",
   "execution_count": 5,
   "metadata": {},
   "outputs": [
    {
     "name": "stdout",
     "output_type": "stream",
     "text": [
      "0\n",
      "2\n",
      "4\n",
      "6\n",
      "8\n",
      "10\n",
      "12\n",
      "14\n",
      "16\n",
      "18\n"
     ]
    }
   ],
   "source": [
    "tableof2()"
   ]
  },
  {
   "cell_type": "code",
   "execution_count": 3,
   "metadata": {},
   "outputs": [
    {
     "name": "stdout",
     "output_type": "stream",
     "text": [
      "First No=8\n",
      "Second No=6\n",
      "14\n"
     ]
    }
   ],
   "source": [
    "def sumof2no():\n",
    "    n1=int(input('First No='))\n",
    "    n2=int(input('Second No='))\n",
    "    n3=n1+n2\n",
    "    return n3\n",
    "\n",
    "sm=sumof2no()\n",
    "print(sm)"
   ]
  },
  {
   "cell_type": "code",
   "execution_count": 3,
   "metadata": {},
   "outputs": [
    {
     "name": "stdout",
     "output_type": "stream",
     "text": [
      "First No=8\n",
      "Second No=6\n",
      "28\n"
     ]
    }
   ],
   "source": [
    "ans1=sumof2no()\n",
    "print(ans1*2)"
   ]
  },
  {
   "cell_type": "code",
   "execution_count": 1,
   "metadata": {},
   "outputs": [],
   "source": [
    "def tables():\n",
    "    ip=int(input('Enter no for table='))\n",
    "    ini=1\n",
    "    print('Table of {} is'.format(ip))\n",
    "    while ini<=10:\n",
    "        print(ip,'*',ini,'=',ip*ini)\n",
    "        ini+=1"
   ]
  },
  {
   "cell_type": "code",
   "execution_count": 2,
   "metadata": {},
   "outputs": [
    {
     "name": "stdout",
     "output_type": "stream",
     "text": [
      "Enter no for table=7\n",
      "Table of 7 is\n",
      "7 * 1 = 7\n",
      "7 * 2 = 14\n",
      "7 * 3 = 21\n",
      "7 * 4 = 28\n",
      "7 * 5 = 35\n",
      "7 * 6 = 42\n",
      "7 * 7 = 49\n",
      "7 * 8 = 56\n",
      "7 * 9 = 63\n",
      "7 * 10 = 70\n"
     ]
    }
   ],
   "source": [
    "tables()"
   ]
  },
  {
   "cell_type": "code",
   "execution_count": 3,
   "metadata": {},
   "outputs": [
    {
     "name": "stdout",
     "output_type": "stream",
     "text": [
      "Hello 123 :p\n"
     ]
    }
   ],
   "source": [
    "def name(myname):\n",
    "    print('Hello' ,myname, ':p')\n",
    "name(123)"
   ]
  },
  {
   "cell_type": "code",
   "execution_count": 4,
   "metadata": {},
   "outputs": [
    {
     "name": "stdout",
     "output_type": "stream",
     "text": [
      "11\n"
     ]
    }
   ],
   "source": [
    "def add(a,b):\n",
    "    c=a+b\n",
    "    print(c)\n",
    "\n",
    "\n",
    "    \n",
    "add(5,6)"
   ]
  },
  {
   "cell_type": "code",
   "execution_count": 1,
   "metadata": {},
   "outputs": [
    {
     "name": "stdout",
     "output_type": "stream",
     "text": [
      "Table of 7 is\n",
      "7 * 1 = 7\n",
      "7 * 2 = 14\n",
      "7 * 3 = 21\n",
      "7 * 4 = 28\n",
      "7 * 5 = 35\n",
      "7 * 6 = 42\n",
      "7 * 7 = 49\n",
      "7 * 8 = 56\n",
      "7 * 9 = 63\n",
      "7 * 10 = 70\n"
     ]
    }
   ],
   "source": [
    "def tables(ip):\n",
    "    #ip=int(input('Enter no for table='))\n",
    "    ini=1\n",
    "    print('Table of {} is'.format(ip))\n",
    "    while ini<=10:\n",
    "        print(ip,'*',ini,'=',ip*ini)\n",
    "        ini+=1\n",
    "        \n",
    "tables(7)"
   ]
  },
  {
   "cell_type": "code",
   "execution_count": 2,
   "metadata": {},
   "outputs": [],
   "source": [
    "def addition(p,q):\n",
    "    r=p+q\n",
    "    return r"
   ]
  },
  {
   "cell_type": "code",
   "execution_count": 4,
   "metadata": {},
   "outputs": [
    {
     "name": "stdout",
     "output_type": "stream",
     "text": [
      "17\n"
     ]
    },
    {
     "data": {
      "text/plain": [
       "51"
      ]
     },
     "execution_count": 4,
     "metadata": {},
     "output_type": "execute_result"
    }
   ],
   "source": [
    "ans=addition(8,9)\n",
    "print(ans)\n",
    "ans*3"
   ]
  },
  {
   "cell_type": "code",
   "execution_count": 5,
   "metadata": {},
   "outputs": [
    {
     "name": "stdout",
     "output_type": "stream",
     "text": [
      "['Hello', 'World', 2019, '8th May']\n"
     ]
    }
   ],
   "source": [
    "def lists(a,b,c,d):\n",
    "    lst=[a,b,c,d]\n",
    "    return lst\n",
    "\n",
    "use=lists('Hello','World',2019,'8th May')\n",
    "print(use)"
   ]
  },
  {
   "cell_type": "code",
   "execution_count": 16,
   "metadata": {},
   "outputs": [
    {
     "name": "stdout",
     "output_type": "stream",
     "text": [
      "9 $\n"
     ]
    }
   ],
   "source": [
    "import math\n",
    "def conversion(rs):\n",
    "    x=math.floor(rs/144)\n",
    "    return x\n",
    "conv=conversion(1430)\n",
    "print(conv,'$')"
   ]
  },
  {
   "cell_type": "code",
   "execution_count": 26,
   "metadata": {},
   "outputs": [
    {
     "name": "stdout",
     "output_type": "stream",
     "text": [
      "Name of Student is Hussain\n",
      "Total Marks are 247\n"
     ]
    }
   ],
   "source": [
    "def results(name,phy,maths,comp):\n",
    "    total=phy+maths+comp\n",
    "    return total,name\n",
    "\n",
    "stud=results('Hussain',77,80,90)\n",
    "print(f'Name of Student is {stud[1]}\\nTotal Marks are {stud[0]}')\n"
   ]
  },
  {
   "cell_type": "code",
   "execution_count": 35,
   "metadata": {},
   "outputs": [
    {
     "name": "stdout",
     "output_type": "stream",
     "text": [
      "Enter Your Name=aa\n",
      "Enter Marks of Physics=2\n",
      "Enter Marks of Maths=3\n",
      "Enter Marks of Computer=3\n",
      "Name of Student is aa \n",
      "Your Obtained Marks are 8\n",
      "Your Percentage is 2.67\n",
      "Your Grade is You Are Fail\n"
     ]
    },
    {
     "data": {
      "text/plain": [
       "('aa', 8, 2.67, 'You Are Fail')"
      ]
     },
     "execution_count": 35,
     "metadata": {},
     "output_type": "execute_result"
    }
   ],
   "source": [
    "def result(name,m1,m2,m3):\n",
    "    t_marks=m1+m2+m3\n",
    "    percent=round((t_marks/300)*100,2)\n",
    "    if percent>=80:\n",
    "        grade='A+'\n",
    "    elif percent>=70:\n",
    "        grade='A'\n",
    "    elif percent>=60:\n",
    "        grade='B'\n",
    "    elif percent>=50:\n",
    "        grade='C'\n",
    "    else:\n",
    "        grade='You Are Fail'\n",
    "    return name,t_marks,percent,grade\n",
    "\n",
    "nam=input('Enter Your Name=')\n",
    "mark1=int(input('Enter Marks of Physics='))\n",
    "mark2=int(input('Enter Marks of Maths='))\n",
    "mark3=int(input('Enter Marks of Computer='))    \n",
    "natija=result(nam,mark1,mark2,mark3)\n",
    "print(f'Name of Student is {natija[0]} \\nYour Obtained Marks are {natija[1]}\\nYour Percentage is {natija[2]}\\nYour Grade is {natija[3]}')\n",
    "natija"
   ]
  },
  {
   "cell_type": "code",
   "execution_count": 1,
   "metadata": {},
   "outputs": [
    {
     "name": "stdout",
     "output_type": "stream",
     "text": [
      "The name of husband is Ali and name of wife is Fatima.\n"
     ]
    }
   ],
   "source": [
    "#formatting by f\n",
    "def couples(hname, wname):\n",
    "    print(f\"The name of husband is {hname} and name of wife is {wname}.\")\n",
    "\n",
    "\n",
    "couples('Ali','Fatima') #position argument"
   ]
  },
  {
   "cell_type": "code",
   "execution_count": 2,
   "metadata": {},
   "outputs": [
    {
     "name": "stdout",
     "output_type": "stream",
     "text": [
      "The name of husband is Ali and name of wife is Fatima.\n"
     ]
    }
   ],
   "source": [
    "#formatting by .format()\n",
    "def couples(hname, wname):\n",
    "    print(\"The name of husband is {} and name of wife is {}.\".format(hname,wname))\n",
    "\n",
    "\n",
    "couples(wname='Fatima', hname='Ali') #keyword argument"
   ]
  },
  {
   "cell_type": "code",
   "execution_count": 4,
   "metadata": {},
   "outputs": [
    {
     "name": "stdout",
     "output_type": "stream",
     "text": [
      "My name is Muhammad Jahanzaib.\n",
      "I am 22 years old.\n",
      "I am studying in Telecom Engineerig.\n",
      "I live in Karachi.\n"
     ]
    }
   ],
   "source": [
    "def myinfo(name,age,eductaion,city):\n",
    "    inf=f\"My name is {name}.\\nI am {age} years old.\\nI am studying in {eductaion}.\\nI live in {city}.\"\n",
    "    return inf\n",
    "\n",
    "\n",
    "bio=myinfo('Muhammad Jahanzaib',22,'Telecom Engineerig','Karachi')\n",
    "print(bio)"
   ]
  },
  {
   "cell_type": "code",
   "execution_count": 2,
   "metadata": {},
   "outputs": [],
   "source": [
    "def cal():\n",
    "    from IPython.display  import clear_output\n",
    "    while True:\n",
    "        try:\n",
    "            clear_output()\n",
    "            print(\"Enter First No=\")\n",
    "            n1=int(input())\n",
    "            print(\"Enter Second No=\")\n",
    "            n2=int(input())\n",
    "            print('What Operation Do you want to Perform?')\n",
    "            op=input()\n",
    "            if op=='+':\n",
    "                ans=n1+n2\n",
    "                print(f'The sum of {n1} and {n2}= {ans}')\n",
    "            elif op=='-':\n",
    "                ans=n1-n2\n",
    "                print(f'The difference of {n1} and {n2}= {ans}')\n",
    "            elif op=='*':\n",
    "                ans=n1*n2\n",
    "                print(f'The product of {n1} and {n2}= {ans}')\n",
    "            elif op=='/':\n",
    "                ans=n1/n2\n",
    "                print(f'The division of {n1} and {n2}= {ans}')\n",
    "            else:\n",
    "                print('Invalid Operation')\n",
    "        except:\n",
    "            print(\"Error generated\")\n",
    "            print('Do You Want Another Calculation[Y/N]?')\n",
    "            chk=input().upper()\n",
    "            if chk=='Y':\n",
    "                continue\n",
    "            else:\n",
    "                #clear_output()\n",
    "                print(\"Thanks for using our service\")\n",
    "                break\n",
    "   "
   ]
  },
  {
   "cell_type": "code",
   "execution_count": null,
   "metadata": {},
   "outputs": [
    {
     "name": "stdout",
     "output_type": "stream",
     "text": [
      "Enter First No=\n"
     ]
    }
   ],
   "source": [
    "cal()"
   ]
  },
  {
   "cell_type": "code",
   "execution_count": 23,
   "metadata": {},
   "outputs": [
    {
     "name": "stdout",
     "output_type": "stream",
     "text": [
      "Hey Ahmed\n",
      "Hey Adeel\n",
      "Hey Raza\n"
     ]
    }
   ],
   "source": [
    "def mylist(name):\n",
    "    for name1 in name:\n",
    "        print('Hey',name1)\n",
    "nm=['Ahmed','Adeel','Raza']\n",
    "mylist(nm)"
   ]
  },
  {
   "cell_type": "code",
   "execution_count": 27,
   "metadata": {},
   "outputs": [
    {
     "name": "stdout",
     "output_type": "stream",
     "text": [
      "First Name> Muhammad\n",
      "Last Name> Jahanzaib\n",
      "Age> 22\n",
      "Gender> Male\n"
     ]
    }
   ],
   "source": [
    "def info(fname,lname,age,gender):\n",
    "    print(f'First Name> {fname.title()}\\nLast Name> {lname.title()}\\nAge> {age}\\nGender> {gender.title()}')\n",
    "info('muhammad','jahanzaib',22,'male')"
   ]
  },
  {
   "cell_type": "code",
   "execution_count": 1,
   "metadata": {},
   "outputs": [
    {
     "name": "stdout",
     "output_type": "stream",
     "text": [
      "I have a City.\n",
      "Its company is Honda.\n"
     ]
    }
   ],
   "source": [
    "def mycar(name, company=\"Honda\", model=2012):\n",
    "    print(f'I have a {name}.' )\n",
    "    print((f'Its company is {company}.'))\n",
    "    \n",
    "mycar('City')"
   ]
  },
  {
   "cell_type": "code",
   "execution_count": 7,
   "metadata": {},
   "outputs": [
    {
     "name": "stdout",
     "output_type": "stream",
     "text": [
      "The size of my shirt is Small.\n",
      "Its color is Blue.\n",
      "Text written on it 'SAEEN :D'.\n"
     ]
    }
   ],
   "source": [
    "def shirt(size, color='Blue', text='\\'saeen :d\\''): #https://cscircles.cemc.uwaterloo.ca/3-comments-literals/ refrence link for putting quotation between string\n",
    "    print(f'The size of my shirt is {size}.')\n",
    "    print(f'Its color is {color}.')\n",
    "    print(f'Text written on it {text.upper()}.')\n",
    "\n",
    "    \n",
    "shirt('Small')"
   ]
  },
  {
   "cell_type": "code",
   "execution_count": 2,
   "metadata": {},
   "outputs": [
    {
     "name": "stdout",
     "output_type": "stream",
     "text": [
      "First Name=Muhammad Middle Name=Jahanzaib Last Name=Ashraf\n"
     ]
    }
   ],
   "source": [
    "def name(fname,lname,mname=''):\n",
    "    print(f'First Name={fname}',end=' ')\n",
    "    if mname=='':\n",
    "         print(f'Last Name={lname}')\n",
    "    else:\n",
    "        print(f'Middle Name={lname}',end=' ')\n",
    "        print(f'Last Name={mname}')\n",
    "   \n",
    "\n",
    "name('Muhammad','Jahanzaib','Ashraf')"
   ]
  },
  {
   "cell_type": "code",
   "execution_count": 35,
   "metadata": {},
   "outputs": [
    {
     "name": "stdout",
     "output_type": "stream",
     "text": [
      "First Name=Muhammad\n",
      "Middle Name=Jahanzaib\n",
      "Last Name=Male\n",
      "Gender=\n",
      "Age=\n",
      "Address=\n"
     ]
    }
   ],
   "source": [
    "def bio(fname,lname,mname='',gender='',age=0,address=''):\n",
    "    print(f'First Name={fname}')\n",
    "    if mname=='':\n",
    "         print(f'Last Name={lname}')\n",
    "    else:\n",
    "        print(f'Middle Name={lname}')\n",
    "        print(f'Last Name={mname}')\n",
    "    print(f'Gender={gender}')\n",
    "    print(f'Age={age}')\n",
    "    print(f'Address={address}')\n",
    "\n",
    "bio('Muhammad','Jahanzaib')"
   ]
  },
  {
   "cell_type": "code",
   "execution_count": 42,
   "metadata": {},
   "outputs": [
    {
     "name": "stdout",
     "output_type": "stream",
     "text": [
      "His fullname is Bilal Nasir.\n",
      "His Gender is Male.\n",
      "He is 21 years old.\n",
      "He lives in FB Area Karachi\n"
     ]
    }
   ],
   "source": [
    "def bio(fname,lname,mname='',gender='',age=0,address=''):\n",
    "    result=fname\n",
    "    if mname=='':\n",
    "         fullname=fname+' '+lname\n",
    "    else:\n",
    "        fullname=fname+' '+lname+' '+mname\n",
    "    '''if age>0:    \n",
    "    print(f'Gender={gender}')\n",
    "    print(f'Age={age}')\n",
    "    print(f'Address={address}')'''\n",
    "    return fullname,gender,age,address\n",
    "inf=bio('Bilal','Nasir',gender='Male',age=21,address='FB Area Karachi')\n",
    "print(f'His fullname is {inf[0]}.')\n",
    "print((f'His Gender is {inf[1]}.'))\n",
    "print((f'He is {inf[2]} years old.'))\n",
    "print((f'He lives in {inf[3]}'))"
   ]
  },
  {
   "cell_type": "code",
   "execution_count": 56,
   "metadata": {},
   "outputs": [
    {
     "name": "stdout",
     "output_type": "stream",
     "text": [
      "****Your Ordered Pizza****\n",
      "You Ordered tikka flavour\n",
      "<class 'tuple'>\n",
      "garlic\n",
      "mushroom\n",
      "spice\n",
      "olive\n"
     ]
    }
   ],
   "source": [
    "def pizza(flavour,*topping): \n",
    "    print('****Your Ordered Pizza****')\n",
    "    print(f'You Ordered {flavour} flavour')\n",
    "    print(type(topping))\n",
    "    for toppings in topping:\n",
    "        print(toppings)\n",
    "\n",
    "pizza('tikka','garlic','mushroom','spice','olive')"
   ]
  },
  {
   "cell_type": "code",
   "execution_count": 9,
   "metadata": {},
   "outputs": [
    {
     "name": "stdout",
     "output_type": "stream",
     "text": [
      "1\n",
      "1\n",
      "2\n",
      "3\n",
      "5\n",
      "8\n",
      "13\n",
      "21\n",
      "34\n",
      "55\n"
     ]
    }
   ],
   "source": [
    "def fibonacci(n):\n",
    "    curr = 1\n",
    "    prev = 0\n",
    "    counter = 0\n",
    "    while counter < n:\n",
    "        yield curr\n",
    "        prev, curr = curr, prev + curr\n",
    "        counter += 1\n",
    "\n",
    "        \n",
    "fib=fibonacci(10)\n",
    "for curr in fib:\n",
    "    print(curr)"
   ]
  },
  {
   "cell_type": "code",
   "execution_count": 3,
   "metadata": {},
   "outputs": [],
   "source": [
    "def calculator(n1,n2,op):\n",
    "    if op=='+':\n",
    "        print(n1+n2)\n",
    "    elif op=='-':\n",
    "        print(n1-n2)\n",
    "    elif op=='*':\n",
    "        print(n1*n2)\n",
    "    elif op=='/':\n",
    "        print(n1/n2)\n",
    "    else:\n",
    "        print(invalid)"
   ]
  },
  {
   "cell_type": "code",
   "execution_count": 6,
   "metadata": {},
   "outputs": [
    {
     "name": "stdout",
     "output_type": "stream",
     "text": [
      "Enter No1= 8\n",
      "Enter No2= 6\n",
      "Enter Operator=-\n",
      "2\n"
     ]
    }
   ],
   "source": [
    "n1=int(input('Enter No1= '))\n",
    "n2=int(input('Enter No2= '))\n",
    "op=input('Enter Operator=')\n",
    "calc=calculator(n1,n2,op)"
   ]
  },
  {
   "cell_type": "code",
   "execution_count": 17,
   "metadata": {},
   "outputs": [
    {
     "name": "stdout",
     "output_type": "stream",
     "text": [
      "my Friend name is  Affan\n",
      "my Friend name is  Ahmed\n",
      "my Friend name is  Faraz\n",
      "my Friend name is  Mustajab\n",
      "my Friend name is  Noaman\n",
      "my Friend name is  Saad\n"
     ]
    }
   ],
   "source": [
    "def friends(friends_name):\n",
    "        for fname in friends_name:\n",
    "            print('my Friend name is ',fname)\n",
    "\n",
    "\n",
    "flist=['Ahmed','Saad','Faraz','Mustajab','Affan','Noaman']\n",
    "flist.sort()\n",
    "friends(flist)"
   ]
  },
  {
   "cell_type": "code",
   "execution_count": 32,
   "metadata": {},
   "outputs": [
    {
     "name": "stdout",
     "output_type": "stream",
     "text": [
      "['Affan', 'Ahmed', 'Faraz', 'Mustajab', 'Noaman', 'Saad']\n",
      "my Friend name is  Ahmed\n",
      "my Friend name is  Saad\n",
      "my Friend name is  Faraz\n",
      "my Friend name is  Mustajab\n",
      "my Friend name is  Affan\n",
      "my Friend name is  Noaman\n"
     ]
    }
   ],
   "source": [
    "def friends(friends_name):\n",
    "        for fname in friends_name:\n",
    "            print('my Friend name is ',fname)\n",
    "\n",
    "\n",
    "ftupple=('Ahmed','Saad','Faraz','Mustajab','Affan','Noaman')\n",
    "sorted_ftupple=sorted(ftupple)\n",
    "print(sorted_ftupple)\n",
    "friends(ftupple)"
   ]
  },
  {
   "cell_type": "code",
   "execution_count": 36,
   "metadata": {},
   "outputs": [
    {
     "name": "stdout",
     "output_type": "stream",
     "text": [
      "Your Tax Amount is 800.0\n"
     ]
    }
   ],
   "source": [
    "def shopping(bill,tax=5):\n",
    "    if bill>5000:\n",
    "        tax=10\n",
    "        tax_price=bill*(tax/100)\n",
    "        print(f'Your Tax Amount is {tax_price}')\n",
    "    elif bill<=5000:\n",
    "        tax_price=bill*(tax/100)\n",
    "        print(f'Your Tax Amount is {tax_price}')\n",
    "\n",
    "shopping(8000)"
   ]
  },
  {
   "cell_type": "code",
   "execution_count": 47,
   "metadata": {},
   "outputs": [
    {
     "name": "stdout",
     "output_type": "stream",
     "text": [
      "25\n",
      "10\n"
     ]
    }
   ],
   "source": [
    "x=input()\n",
    "for no in x:\n",
    "    n1=0\n",
    "    n1=int(no)\n",
    "\n",
    "print(n1)"
   ]
  },
  {
   "cell_type": "code",
   "execution_count": null,
   "metadata": {},
   "outputs": [],
   "source": []
  }
 ],
 "metadata": {
  "kernelspec": {
   "display_name": "Python 3",
   "language": "python",
   "name": "python3"
  },
  "language_info": {
   "codemirror_mode": {
    "name": "ipython",
    "version": 3
   },
   "file_extension": ".py",
   "mimetype": "text/x-python",
   "name": "python",
   "nbconvert_exporter": "python",
   "pygments_lexer": "ipython3",
   "version": "3.7.1"
  }
 },
 "nbformat": 4,
 "nbformat_minor": 2
}
