{
 "cells": [
  {
   "cell_type": "code",
   "execution_count": 5,
   "metadata": {},
   "outputs": [],
   "source": [
    "#Attributes in programming are variables, behaviours are referred as function in programming terms"
   ]
  },
  {
   "cell_type": "code",
   "execution_count": 6,
   "metadata": {},
   "outputs": [],
   "source": [
    "class Patient():\n",
    "    pass"
   ]
  },
  {
   "cell_type": "code",
   "execution_count": 8,
   "metadata": {},
   "outputs": [],
   "source": [
    "class Patient():\n",
    "    def __init__(self,last_name):"
   ]
  },
  {
   "cell_type": "code",
   "execution_count": 9,
   "metadata": {},
   "outputs": [],
   "source": [
    "class Patient():\n",
    "    def __init__(self,last_name):\n",
    "        self.last_name=last_name        "
   ]
  },
  {
   "cell_type": "code",
   "execution_count": 14,
   "metadata": {},
   "outputs": [],
   "source": [
    "pid01=Patient('Jack')\n",
    "pid02=Patient('Tom')\n",
    "pid03=Patient('Jerry')\n",
    "pid04=Patient('Harry Potter')"
   ]
  },
  {
   "cell_type": "code",
   "execution_count": 15,
   "metadata": {},
   "outputs": [],
   "source": [
    "class Patient():\n",
    "    def __init__(self,last_name,first_name,age):\n",
    "        self.last_name=last_name\n",
    "        self.first_name=first_name\n",
    "        self.age=age"
   ]
  },
  {
   "cell_type": "code",
   "execution_count": 16,
   "metadata": {},
   "outputs": [],
   "source": [
    "pid01=Patient('Jack','Jill',18)\n",
    "pid02=Patient('Tom','Cruise',35)\n",
    "pid03=Patient('Jerry','Arnold',50)\n",
    "pid04=Patient('Harry',' Potter',22)"
   ]
  },
  {
   "cell_type": "code",
   "execution_count": 19,
   "metadata": {},
   "outputs": [
    {
     "name": "stdout",
     "output_type": "stream",
     "text": [
      "Jill 18\n"
     ]
    },
    {
     "data": {
      "text/plain": [
       "'Harry'"
      ]
     },
     "execution_count": 19,
     "metadata": {},
     "output_type": "execute_result"
    }
   ],
   "source": [
    "print(pid01.first_name,pid01.age)\n",
    "pid04.last_name"
   ]
  },
  {
   "cell_type": "code",
   "execution_count": 2,
   "metadata": {},
   "outputs": [],
   "source": [
    "class Car():\n",
    "    def __init__(self,company,model,color):\n",
    "        self.company=company\n",
    "        self.model=model\n",
    "        self.color=color\n",
    "    "
   ]
  },
  {
   "cell_type": "code",
   "execution_count": 3,
   "metadata": {},
   "outputs": [
    {
     "name": "stdout",
     "output_type": "stream",
     "text": [
      "My Friend has a City car in Blue color of company Honda\n"
     ]
    }
   ],
   "source": [
    "c1=Car('Honda','City','Blue')\n",
    "c2=Car('Toyota','Corolla','Black')\n",
    "c3=Car('Suzuki','Swift','Maroon')\n",
    "print(f'My Friend has a {c1.model} car in {c1.color} color of company {c1.company}')"
   ]
  },
  {
   "cell_type": "code",
   "execution_count": 40,
   "metadata": {},
   "outputs": [],
   "source": [
    "class Car():\n",
    "    '''A simple Attempt to Represent a Car.'''\n",
    "    def __init__(self,make,model,year):\n",
    "        '''Initialize attributes to describe a car. '''\n",
    "        self.make=make\n",
    "        self.model=model\n",
    "        self.year=year\n",
    "        self.odometer_reading=0\n",
    "    def get_descriptive_name(self):\n",
    "        '''Return a neatly formatted descriptive name'''\n",
    "        long_name=f'{self.year} {self.make} {self.model}'\n",
    "        return long_name.title()\n",
    "    def read_odometer(self):\n",
    "        print(f'This car has {self.odometer_reading} miles on it.')\n",
    "        \n",
    "    def update_odometer(self,mileage):\n",
    "        if mileage >= self.odometer_reading:\n",
    "            self.odometer_reading=mileage\n",
    "        else:\n",
    "            print(\"You can't roll back an odometer!\")\n",
    "    def increment_odometer(self, miles):\n",
    "        \"\"\"Add the given amount to the odometer reading.\"\"\"\n",
    "        if miles>0:\n",
    "            self.odometer_reading += miles\n",
    "        elif miles==0:\n",
    "            print('LOL What is the increment in it?')\n",
    "        else:\n",
    "            print(\"Nah Nah You Can't do that\")"
   ]
  },
  {
   "cell_type": "code",
   "execution_count": 41,
   "metadata": {},
   "outputs": [
    {
     "name": "stdout",
     "output_type": "stream",
     "text": [
      "This car has 50 miles on it.\n",
      "2016 Audi A4\n"
     ]
    }
   ],
   "source": [
    "my_new_car=Car('audi','A4',2016)\n",
    "my_new_car.update_odometer(50)\n",
    "my_new_car.read_odometer()\n",
    "print(my_new_car.get_descriptive_name())"
   ]
  },
  {
   "cell_type": "code",
   "execution_count": 43,
   "metadata": {},
   "outputs": [
    {
     "name": "stdout",
     "output_type": "stream",
     "text": [
      "Nah Nah You Can't do that\n",
      "This car has 50 miles on it.\n"
     ]
    }
   ],
   "source": [
    "my_new_car.increment_odometer(-10)\n",
    "my_new_car.read_odometer()"
   ]
  },
  {
   "cell_type": "code",
   "execution_count": 29,
   "metadata": {},
   "outputs": [
    {
     "name": "stdout",
     "output_type": "stream",
     "text": [
      "You can't roll back an odometer!\n"
     ]
    }
   ],
   "source": [
    "my_new_car.update_odometer(40)"
   ]
  },
  {
   "cell_type": "code",
   "execution_count": 27,
   "metadata": {},
   "outputs": [
    {
     "name": "stdout",
     "output_type": "stream",
     "text": [
      "This car has 45 miles on it.\n"
     ]
    }
   ],
   "source": [
    "my_new_car.odometer_reading=45\n",
    "my_new_car.read_odometer()"
   ]
  },
  {
   "cell_type": "code",
   "execution_count": 24,
   "metadata": {},
   "outputs": [],
   "source": [
    "class Watch():\n",
    "    def __init__(self,typee,company,color,price):\n",
    "        self.type=typee\n",
    "        self.company=company\n",
    "        self.color=color\n",
    "        self.price=price\n",
    "        self.use_period=0\n",
    "    def description(self):\n",
    "        name=f'{self.company} {self.type} {self.color} {self.price}.'\n",
    "        return name.title()\n",
    "    def read_usage_time(self):\n",
    "        print(f'It has been in use since {self.use_period} months')\n",
    "    def update_usage_time(self,usage):\n",
    "        self.use_period=usage"
   ]
  },
  {
   "cell_type": "code",
   "execution_count": 27,
   "metadata": {},
   "outputs": [
    {
     "name": "stdout",
     "output_type": "stream",
     "text": [
      "It has been in use since 3 months\n",
      "Hublot Wrist Brown 2000.\n"
     ]
    }
   ],
   "source": [
    "my_watch=Watch('Wrist','Hublot','Brown',2000)\n",
    "my_watch.update_usage_time(3)\n",
    "my_watch.read_usage_time()\n",
    "print(my_watch.description())"
   ]
  },
  {
   "cell_type": "code",
   "execution_count": 8,
   "metadata": {},
   "outputs": [],
   "source": [
    "class Dog():\n",
    "    def __init__(self,name,age):\n",
    "        self.name=name\n",
    "        self.age=age\n",
    "    def sit(self):\n",
    "        print(f'{self.name.title()} is now sitting.')\n",
    "    def roll_over(self):\n",
    "        print(f'{self.name.title()} rolled over.')"
   ]
  },
  {
   "cell_type": "code",
   "execution_count": 11,
   "metadata": {},
   "outputs": [
    {
     "name": "stdout",
     "output_type": "stream",
     "text": [
      "Bonty 5\n"
     ]
    }
   ],
   "source": [
    "my_dog=Dog('Bonty',5)\n",
    "print(my_dog.name, my_dog.age)"
   ]
  },
  {
   "cell_type": "code",
   "execution_count": 12,
   "metadata": {},
   "outputs": [
    {
     "name": "stdout",
     "output_type": "stream",
     "text": [
      "Bonty is now sitting.\n"
     ]
    }
   ],
   "source": [
    "my_dog.sit()"
   ]
  },
  {
   "cell_type": "code",
   "execution_count": 13,
   "metadata": {},
   "outputs": [
    {
     "name": "stdout",
     "output_type": "stream",
     "text": [
      "Bonty rolled over.\n"
     ]
    }
   ],
   "source": [
    "my_dog.roll_over()"
   ]
  },
  {
   "cell_type": "code",
   "execution_count": 14,
   "metadata": {},
   "outputs": [
    {
     "name": "stdout",
     "output_type": "stream",
     "text": [
      "My dog's name is Bonty and your's dog is Ronty\n"
     ]
    }
   ],
   "source": [
    "your_dog=Dog('Ronty',3)\n",
    "print(f'My dog\\'s name is {my_dog.name} and your\\'s dog is {your_dog.name}')"
   ]
  },
  {
   "cell_type": "code",
   "execution_count": 67,
   "metadata": {},
   "outputs": [],
   "source": [
    "class Restaurant():\n",
    "    def __init__(self,r_name,c_type,num_served=0):\n",
    "        self.r_name=r_name\n",
    "        self.c_type=c_type\n",
    "        self.num_served=num_served\n",
    "    def describe_restaurant(self):\n",
    "        print(f'The name of restaurant is {self.r_name.title()} and they provide {self.c_type.title()} food.')\n",
    "    def open_restaurant(self):\n",
    "        print('Restaurant is open :-)')\n",
    "    def number_served(self):\n",
    "        print(f'No of customers we served are {self.num_served}')\n",
    "    def update_number_served(self,served):\n",
    "        if served >= self.num_served:\n",
    "            self.num_served=served\n",
    "        else:\n",
    "            print('How they can be less?')\n",
    "    def increment_number_served(self,increment):\n",
    "        if increment >=0:\n",
    "            self.num_served+=increment\n",
    "        else:\n",
    "            print('Cant go in reverse :p')"
   ]
  },
  {
   "cell_type": "code",
   "execution_count": 70,
   "metadata": {},
   "outputs": [
    {
     "name": "stdout",
     "output_type": "stream",
     "text": [
      "The name of restaurant is Dhaba Foods and they provide Desi food.\n",
      "Restaurant is open :-)\n",
      "No of customers we served are 58\n"
     ]
    }
   ],
   "source": [
    "my_res=Restaurant('dhaba foods','desi')\n",
    "my_res.describe_restaurant()\n",
    "my_res.open_restaurant()\n",
    "my_res.update_number_served(58)\n",
    "my_res.number_served()"
   ]
  },
  {
   "cell_type": "code",
   "execution_count": 71,
   "metadata": {},
   "outputs": [
    {
     "name": "stdout",
     "output_type": "stream",
     "text": [
      "No of customers we served are 108\n"
     ]
    }
   ],
   "source": [
    "my_res.increment_number_served(50)\n",
    "my_res.number_served()"
   ]
  },
  {
   "cell_type": "code",
   "execution_count": 18,
   "metadata": {},
   "outputs": [],
   "source": [
    "your_res=Restaurant('Chinese Pavilion','Chinese')\n",
    "our_res=Restaurant('Aroma','English')"
   ]
  },
  {
   "cell_type": "code",
   "execution_count": 19,
   "metadata": {},
   "outputs": [
    {
     "name": "stdout",
     "output_type": "stream",
     "text": [
      "The name of restaurant is Dhaba Foods and they provide Desi food.\n",
      "The name of restaurant is Chinese Pavilion and they provide Chinese food.\n",
      "The name of restaurant is Aroma and they provide English food.\n"
     ]
    }
   ],
   "source": [
    "my_res.describe_restaurant()\n",
    "your_res.describe_restaurant()\n",
    "our_res.describe_restaurant()"
   ]
  },
  {
   "cell_type": "code",
   "execution_count": 78,
   "metadata": {},
   "outputs": [],
   "source": [
    "class User():\n",
    "    def __init__(self,full_name,age,city,attempts=1):\n",
    "        self.full_name=full_name\n",
    "        self.age=age\n",
    "        self.city=city\n",
    "        self.attempts=attempts\n",
    "    def description(self):\n",
    "        print(f'The name of user is {self.full_name}, he is {self.age} years old and he belongs to {self.city}.' )\n",
    "    def greetings(self):\n",
    "        print('Good Morning',self.full_name)\n",
    "    def login_try(self):\n",
    "        self.attempts+=1\n",
    "        print('Login Attempts',self.attempts)\n",
    "    def reset_login(self):\n",
    "        self.attempts=0\n",
    "        print('Login Attempts has been reset')"
   ]
  },
  {
   "cell_type": "code",
   "execution_count": 79,
   "metadata": {},
   "outputs": [],
   "source": [
    "user1=User('Bilal Nasir',21,'Sukkur')\n",
    "user2=User('Khaliliullah Sheikh',23,'Gambat')\n",
    "user3=User('Talha Khan',24,'Dera Ismail Khan')"
   ]
  },
  {
   "cell_type": "code",
   "execution_count": 74,
   "metadata": {},
   "outputs": [
    {
     "name": "stdout",
     "output_type": "stream",
     "text": [
      "The name of user is Bilal Nasir, he is 21 years old and he belongs to Sukkur.\n",
      "Good Morning Bilal Nasir\n",
      "The name of user is Khaliliullah Sheikh, he is 23 years old and he belongs to Gambat.\n",
      "Good Morning Khaliliullah Sheikh\n",
      "The name of user is Talha Khan, he is 24 years old and he belongs to Dera Ismail Khan.\n",
      "Good Morning Talha Khan\n"
     ]
    }
   ],
   "source": [
    "user1.description()\n",
    "user1.greetings()\n",
    "user2.description()\n",
    "user2.greetings()\n",
    "user3.description()\n",
    "user3.greetings()"
   ]
  },
  {
   "cell_type": "code",
   "execution_count": 84,
   "metadata": {},
   "outputs": [
    {
     "name": "stdout",
     "output_type": "stream",
     "text": [
      "Login Attempts 1\n",
      "Login Attempts 2\n",
      "Login Attempts has been reset\n",
      "Login Attempts 1\n",
      "Login Attempts 2\n"
     ]
    }
   ],
   "source": [
    "user1.login_try()\n",
    "user1.login_try()\n",
    "user1.reset_login()\n",
    "user1.login_try()\n",
    "user1.login_try()"
   ]
  },
  {
   "cell_type": "markdown",
   "metadata": {},
   "source": [
    "# Inheritance"
   ]
  },
  {
   "cell_type": "code",
   "execution_count": 90,
   "metadata": {},
   "outputs": [],
   "source": [
    "class Car():\n",
    "    '''A simple Attempt to Represent a Car.'''\n",
    "    def __init__(self,make,model,year):\n",
    "        '''Initialize attributes to describe a car. '''\n",
    "        self.make=make\n",
    "        self.model=model\n",
    "        self.year=year\n",
    "        self.odometer_reading=0\n",
    "    def get_descriptive_name(self):\n",
    "        '''Return a neatly formatted descriptive name'''\n",
    "        long_name=f'{self.year} {self.make} {self.model}'\n",
    "        return long_name.title()\n",
    "    def read_odometer(self):\n",
    "        print(f'This car has {self.odometer_reading} miles on it.')\n",
    "        \n",
    "    def update_odometer(self,mileage):\n",
    "        if mileage >= self.odometer_reading:\n",
    "            self.odometer_reading=mileage\n",
    "        else:\n",
    "            print(\"You can't roll back an odometer!\")\n",
    "    def increment_odometer(self, miles):\n",
    "        \"\"\"Add the given amount to the odometer reading.\"\"\"\n",
    "        if miles>0:\n",
    "            self.odometer_reading += miles\n",
    "        elif miles==0:\n",
    "            print('LOL What is the increment in it?')\n",
    "        else:\n",
    "            print(\"Nah Nah You Can't do that\")\n",
    "    "
   ]
  },
  {
   "cell_type": "code",
   "execution_count": 91,
   "metadata": {},
   "outputs": [],
   "source": [
    "class ElectricCar(Car):\n",
    "    def __init__(self,make,model,year):\n",
    "        super().__init__(make,model,year)\n",
    "        self.battery_size=70\n",
    "    def describe_battery(self):\n",
    "        \"\"\"Print a statement describing the battery size.\"\"\"\n",
    "        print(f\"This car has a {self.battery_size} + -kWh battery.\")"
   ]
  },
  {
   "cell_type": "code",
   "execution_count": 92,
   "metadata": {},
   "outputs": [
    {
     "name": "stdout",
     "output_type": "stream",
     "text": [
      "2020 Tesla Z Model\n",
      "This car has a 70 + -kWh battery.\n"
     ]
    }
   ],
   "source": [
    "myTesla=ElectricCar('Tesla','Z Model', 2020)\n",
    "print(myTesla.get_descriptive_name())\n",
    "myTesla.describe_battery()"
   ]
  },
  {
   "cell_type": "code",
   "execution_count": null,
   "metadata": {},
   "outputs": [],
   "source": []
  }
 ],
 "metadata": {
  "kernelspec": {
   "display_name": "Python 3",
   "language": "python",
   "name": "python3"
  },
  "language_info": {
   "codemirror_mode": {
    "name": "ipython",
    "version": 3
   },
   "file_extension": ".py",
   "mimetype": "text/x-python",
   "name": "python",
   "nbconvert_exporter": "python",
   "pygments_lexer": "ipython3",
   "version": "3.7.1"
  }
 },
 "nbformat": 4,
 "nbformat_minor": 2
}
