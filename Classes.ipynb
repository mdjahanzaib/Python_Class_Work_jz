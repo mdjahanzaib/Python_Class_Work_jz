{
 "cells": [
  {
   "cell_type": "code",
   "execution_count": 5,
   "metadata": {},
   "outputs": [],
   "source": [
    "#Attributes in programming are variables, behaviours are referred as function in programming terms"
   ]
  },
  {
   "cell_type": "code",
   "execution_count": 6,
   "metadata": {},
   "outputs": [],
   "source": [
    "class Patient():\n",
    "    pass"
   ]
  },
  {
   "cell_type": "code",
   "execution_count": 8,
   "metadata": {},
   "outputs": [],
   "source": [
    "class Patient():\n",
    "    def __init__(self,last_name):"
   ]
  },
  {
   "cell_type": "code",
   "execution_count": 9,
   "metadata": {},
   "outputs": [],
   "source": [
    "class Patient():\n",
    "    def __init__(self,last_name):\n",
    "        self.last_name=last_name        "
   ]
  },
  {
   "cell_type": "code",
   "execution_count": 14,
   "metadata": {},
   "outputs": [],
   "source": [
    "pid01=Patient('Jack')\n",
    "pid02=Patient('Tom')\n",
    "pid03=Patient('Jerry')\n",
    "pid04=Patient('Harry Potter')"
   ]
  },
  {
   "cell_type": "code",
   "execution_count": 15,
   "metadata": {},
   "outputs": [],
   "source": [
    "class Patient():\n",
    "    def __init__(self,last_name,first_name,age):\n",
    "        self.last_name=last_name\n",
    "        self.first_name=first_name\n",
    "        self.age=age"
   ]
  },
  {
   "cell_type": "code",
   "execution_count": 16,
   "metadata": {},
   "outputs": [],
   "source": [
    "pid01=Patient('Jack','Jill',18)\n",
    "pid02=Patient('Tom','Cruise',35)\n",
    "pid03=Patient('Jerry','Arnold',50)\n",
    "pid04=Patient('Harry',' Potter',22)"
   ]
  },
  {
   "cell_type": "code",
   "execution_count": 19,
   "metadata": {},
   "outputs": [
    {
     "name": "stdout",
     "output_type": "stream",
     "text": [
      "Jill 18\n"
     ]
    },
    {
     "data": {
      "text/plain": [
       "'Harry'"
      ]
     },
     "execution_count": 19,
     "metadata": {},
     "output_type": "execute_result"
    }
   ],
   "source": [
    "print(pid01.first_name,pid01.age)\n",
    "pid04.last_name"
   ]
  },
  {
   "cell_type": "code",
   "execution_count": 9,
   "metadata": {},
   "outputs": [],
   "source": [
    "class Car():\n",
    "    def __init__(self,company,model,color):\n",
    "        self.company=company\n",
    "        self.model=model\n",
    "        self.color=color\n",
    "    "
   ]
  },
  {
   "cell_type": "code",
   "execution_count": 11,
   "metadata": {},
   "outputs": [
    {
     "name": "stdout",
     "output_type": "stream",
     "text": [
      "My Friend has a City car in Blue of company Honda\n"
     ]
    }
   ],
   "source": [
    "c1=Car('Honda','City','Blue')\n",
    "c2=Car('Toyota','Corolla','Black')\n",
    "c3=Car('Suzuki','Swift','Maroon')\n",
    "print(f'My Friend has a {c1.model} car in {c1.color} of company {c1.company}')"
   ]
  },
  {
   "cell_type": "code",
   "execution_count": 19,
   "metadata": {},
   "outputs": [],
   "source": [
    "class Car():\n",
    "    '''A simple Attempt to Represent a Car.'''\n",
    "    def __init__(self,make,model,year):\n",
    "        '''Initialize attributes to describe a car. '''\n",
    "        self.make=make\n",
    "        self.model=model\n",
    "        self.year=year\n",
    "        self.odometer_reading=0\n",
    "    def get_descriptive_name(self):\n",
    "        '''Return a neatly formatted descriptive name'''\n",
    "        long_name=f'{self.year} {self.make} {self.model}'\n",
    "        return long_name.title()\n",
    "    def read_odometer(self):\n",
    "        print(f'This car has {self.odometer_reading} miles on it.')\n",
    "        \n",
    "    def update_odometer(self,mileage):\n",
    "        self.odometer_reading=mileage"
   ]
  },
  {
   "cell_type": "code",
   "execution_count": 22,
   "metadata": {},
   "outputs": [
    {
     "name": "stdout",
     "output_type": "stream",
     "text": [
      "This car has 50 miles on it.\n",
      "2016 Audi A4\n"
     ]
    }
   ],
   "source": [
    "my_new_car=Car('audi','A4',2016)\n",
    "my_new_car.update_odometer(50)\n",
    "my_new_car.read_odometer()\n",
    "print(my_new_car.get_descriptive_name())"
   ]
  },
  {
   "cell_type": "code",
   "execution_count": 23,
   "metadata": {},
   "outputs": [
    {
     "name": "stdout",
     "output_type": "stream",
     "text": [
      "This car has 45 miles on it.\n"
     ]
    }
   ],
   "source": [
    "my_new_car.odometer_reading=45\n",
    "my_new_car.read_odometer()"
   ]
  },
  {
   "cell_type": "code",
   "execution_count": 24,
   "metadata": {},
   "outputs": [],
   "source": [
    "class Watch():\n",
    "    def __init__(self,typee,company,color,price):\n",
    "        self.type=typee\n",
    "        self.company=company\n",
    "        self.color=color\n",
    "        self.price=price\n",
    "        self.use_period=0\n",
    "    def description(self):\n",
    "        name=f'{self.company} {self.type} {self.color} {self.price}.'\n",
    "        return name.title()\n",
    "    def read_usage_time(self):\n",
    "        print(f'It has been in use since {self.use_period} months')\n",
    "    def update_usage_time(self,usage):\n",
    "        self.use_period=usage"
   ]
  },
  {
   "cell_type": "code",
   "execution_count": 27,
   "metadata": {},
   "outputs": [
    {
     "name": "stdout",
     "output_type": "stream",
     "text": [
      "It has been in use since 3 months\n",
      "Hublot Wrist Brown 2000.\n"
     ]
    }
   ],
   "source": [
    "my_watch=Watch('Wrist','Hublot','Brown',2000)\n",
    "my_watch.update_usage_time(3)\n",
    "my_watch.read_usage_time()\n",
    "print(my_watch.description())"
   ]
  },
  {
   "cell_type": "code",
   "execution_count": null,
   "metadata": {},
   "outputs": [],
   "source": []
  }
 ],
 "metadata": {
  "kernelspec": {
   "display_name": "Python 3",
   "language": "python",
   "name": "python3"
  },
  "language_info": {
   "codemirror_mode": {
    "name": "ipython",
    "version": 3
   },
   "file_extension": ".py",
   "mimetype": "text/x-python",
   "name": "python",
   "nbconvert_exporter": "python",
   "pygments_lexer": "ipython3",
   "version": "3.7.1"
  }
 },
 "nbformat": 4,
 "nbformat_minor": 2
}
