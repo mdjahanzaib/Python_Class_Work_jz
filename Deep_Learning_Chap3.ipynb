{
  "nbformat": 4,
  "nbformat_minor": 0,
  "metadata": {
    "colab": {
      "name": "Deep Learning Chap3",
      "provenance": [],
      "collapsed_sections": [],
      "include_colab_link": true
    },
    "kernelspec": {
      "name": "python3",
      "display_name": "Python 3"
    }
  },
  "cells": [
    {
      "cell_type": "markdown",
      "metadata": {
        "id": "view-in-github",
        "colab_type": "text"
      },
      "source": [
        "<a href=\"https://colab.research.google.com/github/mdjahanzaib/Python_Class_Work_jz/blob/master/Deep_Learning_Chap3.ipynb\" target=\"_parent\"><img src=\"https://colab.research.google.com/assets/colab-badge.svg\" alt=\"Open In Colab\"/></a>"
      ]
    },
    {
      "cell_type": "markdown",
      "metadata": {
        "id": "Ulv7jkp-G7vM",
        "colab_type": "text"
      },
      "source": [
        "# IMDB DataSet Example"
      ]
    },
    {
      "cell_type": "code",
      "metadata": {
        "id": "DSxs3B_5xdDO",
        "colab_type": "code",
        "outputId": "ef4d60fb-b81b-44ef-bb91-ad9310de6032",
        "colab": {
          "base_uri": "https://localhost:8080/",
          "height": 34
        }
      },
      "source": [
        "from keras.datasets import imdb\n",
        "(train_data, train_labels), (test_data, test_labels) = imdb.load_data(num_words=10000)"
      ],
      "execution_count": 0,
      "outputs": [
        {
          "output_type": "stream",
          "text": [
            "Using TensorFlow backend.\n"
          ],
          "name": "stderr"
        }
      ]
    },
    {
      "cell_type": "code",
      "metadata": {
        "id": "RpxM66FozDVZ",
        "colab_type": "code",
        "outputId": "898064fe-01ca-48df-d86f-b25f78c6b9c0",
        "colab": {
          "base_uri": "https://localhost:8080/",
          "height": 1000
        }
      },
      "source": [
        "train_data[0]"
      ],
      "execution_count": 0,
      "outputs": [
        {
          "output_type": "execute_result",
          "data": {
            "text/plain": [
              "[1,\n",
              " 14,\n",
              " 22,\n",
              " 16,\n",
              " 43,\n",
              " 530,\n",
              " 973,\n",
              " 1622,\n",
              " 1385,\n",
              " 65,\n",
              " 458,\n",
              " 4468,\n",
              " 66,\n",
              " 3941,\n",
              " 4,\n",
              " 173,\n",
              " 36,\n",
              " 256,\n",
              " 5,\n",
              " 25,\n",
              " 100,\n",
              " 43,\n",
              " 838,\n",
              " 112,\n",
              " 50,\n",
              " 670,\n",
              " 2,\n",
              " 9,\n",
              " 35,\n",
              " 480,\n",
              " 284,\n",
              " 5,\n",
              " 150,\n",
              " 4,\n",
              " 172,\n",
              " 112,\n",
              " 167,\n",
              " 2,\n",
              " 336,\n",
              " 385,\n",
              " 39,\n",
              " 4,\n",
              " 172,\n",
              " 4536,\n",
              " 1111,\n",
              " 17,\n",
              " 546,\n",
              " 38,\n",
              " 13,\n",
              " 447,\n",
              " 4,\n",
              " 192,\n",
              " 50,\n",
              " 16,\n",
              " 6,\n",
              " 147,\n",
              " 2025,\n",
              " 19,\n",
              " 14,\n",
              " 22,\n",
              " 4,\n",
              " 1920,\n",
              " 4613,\n",
              " 469,\n",
              " 4,\n",
              " 22,\n",
              " 71,\n",
              " 87,\n",
              " 12,\n",
              " 16,\n",
              " 43,\n",
              " 530,\n",
              " 38,\n",
              " 76,\n",
              " 15,\n",
              " 13,\n",
              " 1247,\n",
              " 4,\n",
              " 22,\n",
              " 17,\n",
              " 515,\n",
              " 17,\n",
              " 12,\n",
              " 16,\n",
              " 626,\n",
              " 18,\n",
              " 2,\n",
              " 5,\n",
              " 62,\n",
              " 386,\n",
              " 12,\n",
              " 8,\n",
              " 316,\n",
              " 8,\n",
              " 106,\n",
              " 5,\n",
              " 4,\n",
              " 2223,\n",
              " 5244,\n",
              " 16,\n",
              " 480,\n",
              " 66,\n",
              " 3785,\n",
              " 33,\n",
              " 4,\n",
              " 130,\n",
              " 12,\n",
              " 16,\n",
              " 38,\n",
              " 619,\n",
              " 5,\n",
              " 25,\n",
              " 124,\n",
              " 51,\n",
              " 36,\n",
              " 135,\n",
              " 48,\n",
              " 25,\n",
              " 1415,\n",
              " 33,\n",
              " 6,\n",
              " 22,\n",
              " 12,\n",
              " 215,\n",
              " 28,\n",
              " 77,\n",
              " 52,\n",
              " 5,\n",
              " 14,\n",
              " 407,\n",
              " 16,\n",
              " 82,\n",
              " 2,\n",
              " 8,\n",
              " 4,\n",
              " 107,\n",
              " 117,\n",
              " 5952,\n",
              " 15,\n",
              " 256,\n",
              " 4,\n",
              " 2,\n",
              " 7,\n",
              " 3766,\n",
              " 5,\n",
              " 723,\n",
              " 36,\n",
              " 71,\n",
              " 43,\n",
              " 530,\n",
              " 476,\n",
              " 26,\n",
              " 400,\n",
              " 317,\n",
              " 46,\n",
              " 7,\n",
              " 4,\n",
              " 2,\n",
              " 1029,\n",
              " 13,\n",
              " 104,\n",
              " 88,\n",
              " 4,\n",
              " 381,\n",
              " 15,\n",
              " 297,\n",
              " 98,\n",
              " 32,\n",
              " 2071,\n",
              " 56,\n",
              " 26,\n",
              " 141,\n",
              " 6,\n",
              " 194,\n",
              " 7486,\n",
              " 18,\n",
              " 4,\n",
              " 226,\n",
              " 22,\n",
              " 21,\n",
              " 134,\n",
              " 476,\n",
              " 26,\n",
              " 480,\n",
              " 5,\n",
              " 144,\n",
              " 30,\n",
              " 5535,\n",
              " 18,\n",
              " 51,\n",
              " 36,\n",
              " 28,\n",
              " 224,\n",
              " 92,\n",
              " 25,\n",
              " 104,\n",
              " 4,\n",
              " 226,\n",
              " 65,\n",
              " 16,\n",
              " 38,\n",
              " 1334,\n",
              " 88,\n",
              " 12,\n",
              " 16,\n",
              " 283,\n",
              " 5,\n",
              " 16,\n",
              " 4472,\n",
              " 113,\n",
              " 103,\n",
              " 32,\n",
              " 15,\n",
              " 16,\n",
              " 5345,\n",
              " 19,\n",
              " 178,\n",
              " 32]"
            ]
          },
          "metadata": {
            "tags": []
          },
          "execution_count": 2
        }
      ]
    },
    {
      "cell_type": "code",
      "metadata": {
        "id": "CS8_Dhb9zEry",
        "colab_type": "code",
        "outputId": "bda6f5d1-3091-44e1-f62f-463f57ac9dde",
        "colab": {
          "base_uri": "https://localhost:8080/",
          "height": 34
        }
      },
      "source": [
        "train_labels[0]"
      ],
      "execution_count": 0,
      "outputs": [
        {
          "output_type": "execute_result",
          "data": {
            "text/plain": [
              "1"
            ]
          },
          "metadata": {
            "tags": []
          },
          "execution_count": 3
        }
      ]
    },
    {
      "cell_type": "code",
      "metadata": {
        "id": "yYVsmbxnzbYc",
        "colab_type": "code",
        "outputId": "729b974b-403f-4c68-fb42-15cbf64bb425",
        "colab": {
          "base_uri": "https://localhost:8080/",
          "height": 34
        }
      },
      "source": [
        "max([max(sequence) for sequence in train_data])"
      ],
      "execution_count": 0,
      "outputs": [
        {
          "output_type": "execute_result",
          "data": {
            "text/plain": [
              "9999"
            ]
          },
          "metadata": {
            "tags": []
          },
          "execution_count": 4
        }
      ]
    },
    {
      "cell_type": "code",
      "metadata": {
        "id": "QcTlWZgVzhqT",
        "colab_type": "code",
        "colab": {}
      },
      "source": [
        "word_index = imdb.get_word_index()\n",
        "reverse_word_index = dict(\n",
        "[(value, key) for (key, value) in word_index.items()])\n",
        "decoded_review = ' '.join(\n",
        "[reverse_word_index.get(i - 3, '?') for i in train_data[0]])"
      ],
      "execution_count": 0,
      "outputs": []
    },
    {
      "cell_type": "code",
      "metadata": {
        "id": "hScVa_MWz3JS",
        "colab_type": "code",
        "outputId": "4a47ae3e-cf63-4856-9174-7a831d1ed1b5",
        "colab": {
          "base_uri": "https://localhost:8080/",
          "height": 54
        }
      },
      "source": [
        "\n",
        "decoded_review"
      ],
      "execution_count": 0,
      "outputs": [
        {
          "output_type": "execute_result",
          "data": {
            "text/plain": [
              "\"? this film was just brilliant casting location scenery story direction everyone's really suited the part they played and you could just imagine being there robert ? is an amazing actor and now the same being director ? father came from the same scottish island as myself so i loved the fact there was a real connection with this film the witty remarks throughout the film were great it was just brilliant so much that i bought the film as soon as it was released for ? and would recommend it to everyone to watch and the fly fishing was amazing really cried at the end it was so sad and you know what they say if you cry at a film it must have been good and this definitely was also ? to the two little boy's that played the ? of norman and paul they were just brilliant children are often left out of the ? list i think because the stars that play them all grown up are such a big profile for the whole film but these children are amazing and should be praised for what they have done don't you think the whole story was so lovely because it was true and was someone's life after all that was shared with us all\""
            ]
          },
          "metadata": {
            "tags": []
          },
          "execution_count": 6
        }
      ]
    },
    {
      "cell_type": "code",
      "metadata": {
        "id": "wYXqcfoy0jAj",
        "colab_type": "code",
        "colab": {}
      },
      "source": [
        "import numpy as np\n",
        "def vectorize_sequences(sequences, dimension=10000):\n",
        "    results = np.zeros((len(sequences), dimension))\n",
        "    for i, sequence in enumerate(sequences):\n",
        "        results[i, sequence] = 1.\n",
        "    return results\n",
        "x_train = vectorize_sequences(train_data)\n",
        "x_test = vectorize_sequences(test_data)"
      ],
      "execution_count": 0,
      "outputs": []
    },
    {
      "cell_type": "code",
      "metadata": {
        "id": "Nx5aElZP00_I",
        "colab_type": "code",
        "outputId": "956ee984-6d90-4df4-d72c-9397d31ec6cb",
        "colab": {
          "base_uri": "https://localhost:8080/",
          "height": 34
        }
      },
      "source": [
        "x_train[0]"
      ],
      "execution_count": 0,
      "outputs": [
        {
          "output_type": "execute_result",
          "data": {
            "text/plain": [
              "array([0., 1., 1., ..., 0., 0., 0.])"
            ]
          },
          "metadata": {
            "tags": []
          },
          "execution_count": 8
        }
      ]
    },
    {
      "cell_type": "code",
      "metadata": {
        "id": "2nxmGh0D03v4",
        "colab_type": "code",
        "outputId": "fb8285d5-9b17-43a8-e159-9bfa94f4459a",
        "colab": {
          "base_uri": "https://localhost:8080/",
          "height": 34
        }
      },
      "source": [
        "print(len(x_train[0]))"
      ],
      "execution_count": 0,
      "outputs": [
        {
          "output_type": "stream",
          "text": [
            "10000\n"
          ],
          "name": "stdout"
        }
      ]
    },
    {
      "cell_type": "code",
      "metadata": {
        "id": "jjANQio505xw",
        "colab_type": "code",
        "colab": {}
      },
      "source": [
        "y_train = np.asarray(train_labels).astype('float32')\n",
        "y_test = np.asarray(test_labels).astype('float32')"
      ],
      "execution_count": 0,
      "outputs": []
    },
    {
      "cell_type": "code",
      "metadata": {
        "id": "OE4y6v7u08aI",
        "colab_type": "code",
        "outputId": "66ab2349-3eb7-4eec-d5f4-86bf43ad33ad",
        "colab": {
          "base_uri": "https://localhost:8080/",
          "height": 88
        }
      },
      "source": [
        "from tensorflow.keras import models\n",
        "from tensorflow.keras import layers\n",
        "model = models.Sequential()\n",
        "model.add(layers.Dense(64, activation='relu', input_shape=(10000,)))\n",
        "model.add(layers.Dense(32, activation='tanh'))\n",
        "model.add(layers.Dense(16, activation='tanh'))\n",
        "model.add(layers.Dense(1, activation='sigmoid'))"
      ],
      "execution_count": 0,
      "outputs": [
        {
          "output_type": "stream",
          "text": [
            "WARNING:tensorflow:From /usr/local/lib/python3.6/dist-packages/tensorflow_core/python/ops/resource_variable_ops.py:1630: calling BaseResourceVariable.__init__ (from tensorflow.python.ops.resource_variable_ops) with constraint is deprecated and will be removed in a future version.\n",
            "Instructions for updating:\n",
            "If using Keras pass *_constraint arguments to layers.\n"
          ],
          "name": "stdout"
        }
      ]
    },
    {
      "cell_type": "code",
      "metadata": {
        "id": "HiQRf9W30-1I",
        "colab_type": "code",
        "colab": {}
      },
      "source": [
        "model.compile(optimizer='rmsprop',\n",
        "loss='mse',\n",
        "metrics=['accuracy'])"
      ],
      "execution_count": 0,
      "outputs": []
    },
    {
      "cell_type": "markdown",
      "metadata": {
        "id": "4drBOjLp1HP0",
        "colab_type": "text"
      },
      "source": [
        "# **Validating**"
      ]
    },
    {
      "cell_type": "code",
      "metadata": {
        "id": "pg2l5CoF1Ebm",
        "colab_type": "code",
        "colab": {}
      },
      "source": [
        "x_val = x_train[:10000]\n",
        "partial_x_train = x_train[10000:]\n",
        "y_val = y_train[:10000]\n",
        "partial_y_train = y_train[10000:]"
      ],
      "execution_count": 0,
      "outputs": []
    },
    {
      "cell_type": "code",
      "metadata": {
        "id": "v0zJskLS1emZ",
        "colab_type": "code",
        "outputId": "56b3ccea-4c21-4b9e-89ec-4e782559f636",
        "colab": {
          "base_uri": "https://localhost:8080/",
          "height": 785
        }
      },
      "source": [
        "model.compile(optimizer='rmsprop',\n",
        "loss='binary_crossentropy',\n",
        "metrics=['acc'])\n",
        "history = model.fit(partial_x_train,\n",
        "partial_y_train,\n",
        "epochs=20,\n",
        "batch_size=512,\n",
        "validation_data=(x_val, y_val))"
      ],
      "execution_count": 0,
      "outputs": [
        {
          "output_type": "stream",
          "text": [
            "WARNING:tensorflow:From /usr/local/lib/python3.6/dist-packages/tensorflow_core/python/ops/nn_impl.py:183: where (from tensorflow.python.ops.array_ops) is deprecated and will be removed in a future version.\n",
            "Instructions for updating:\n",
            "Use tf.where in 2.0, which has the same broadcast rule as np.where\n",
            "Train on 15000 samples, validate on 10000 samples\n",
            "Epoch 1/20\n",
            "15000/15000 [==============================] - 3s 197us/sample - loss: 0.4717 - acc: 0.7773 - val_loss: 0.3398 - val_acc: 0.8567\n",
            "Epoch 2/20\n",
            "15000/15000 [==============================] - 3s 209us/sample - loss: 0.2493 - acc: 0.9029 - val_loss: 0.2827 - val_acc: 0.8844\n",
            "Epoch 3/20\n",
            "15000/15000 [==============================] - 3s 211us/sample - loss: 0.1703 - acc: 0.9390 - val_loss: 0.2826 - val_acc: 0.8866\n",
            "Epoch 4/20\n",
            "15000/15000 [==============================] - 3s 208us/sample - loss: 0.1151 - acc: 0.9613 - val_loss: 0.3136 - val_acc: 0.8848\n",
            "Epoch 5/20\n",
            "15000/15000 [==============================] - 3s 178us/sample - loss: 0.0772 - acc: 0.9734 - val_loss: 0.3869 - val_acc: 0.8718\n",
            "Epoch 6/20\n",
            "15000/15000 [==============================] - 2s 161us/sample - loss: 0.0618 - acc: 0.9807 - val_loss: 0.3638 - val_acc: 0.8826\n",
            "Epoch 7/20\n",
            "15000/15000 [==============================] - 4s 278us/sample - loss: 0.0431 - acc: 0.9868 - val_loss: 0.4174 - val_acc: 0.8737\n",
            "Epoch 8/20\n",
            "15000/15000 [==============================] - 3s 177us/sample - loss: 0.0091 - acc: 0.9993 - val_loss: 0.4572 - val_acc: 0.8812\n",
            "Epoch 9/20\n",
            "15000/15000 [==============================] - 3s 177us/sample - loss: 0.0198 - acc: 0.9953 - val_loss: 0.5711 - val_acc: 0.8569\n",
            "Epoch 10/20\n",
            "15000/15000 [==============================] - 2s 163us/sample - loss: 0.0030 - acc: 0.9997 - val_loss: 0.5223 - val_acc: 0.8778\n",
            "Epoch 11/20\n",
            "15000/15000 [==============================] - 2s 162us/sample - loss: 0.0014 - acc: 1.0000 - val_loss: 0.5752 - val_acc: 0.8727\n",
            "Epoch 12/20\n",
            "15000/15000 [==============================] - 2s 163us/sample - loss: 7.5235e-04 - acc: 1.0000 - val_loss: 0.6400 - val_acc: 0.8747\n",
            "Epoch 13/20\n",
            "15000/15000 [==============================] - 2s 160us/sample - loss: 3.8424e-04 - acc: 1.0000 - val_loss: 0.7249 - val_acc: 0.8725\n",
            "Epoch 14/20\n",
            "15000/15000 [==============================] - 2s 159us/sample - loss: 2.1097e-04 - acc: 1.0000 - val_loss: 0.8024 - val_acc: 0.8720\n",
            "Epoch 15/20\n",
            "15000/15000 [==============================] - 2s 158us/sample - loss: 1.2691e-04 - acc: 1.0000 - val_loss: 0.8826 - val_acc: 0.8739\n",
            "Epoch 16/20\n",
            "15000/15000 [==============================] - 2s 158us/sample - loss: 8.0569e-05 - acc: 1.0000 - val_loss: 0.9761 - val_acc: 0.8718\n",
            "Epoch 17/20\n",
            "15000/15000 [==============================] - 2s 160us/sample - loss: 5.2332e-05 - acc: 1.0000 - val_loss: 1.0157 - val_acc: 0.8740\n",
            "Epoch 18/20\n",
            "15000/15000 [==============================] - 2s 160us/sample - loss: 3.4364e-05 - acc: 1.0000 - val_loss: 1.0819 - val_acc: 0.8725\n",
            "Epoch 19/20\n",
            "15000/15000 [==============================] - 2s 159us/sample - loss: 2.2657e-05 - acc: 1.0000 - val_loss: 1.1179 - val_acc: 0.8749\n",
            "Epoch 20/20\n",
            "15000/15000 [==============================] - 2s 158us/sample - loss: 1.4969e-05 - acc: 1.0000 - val_loss: 1.1671 - val_acc: 0.8749\n"
          ],
          "name": "stdout"
        }
      ]
    },
    {
      "cell_type": "code",
      "metadata": {
        "id": "7eEQujtJ1lAJ",
        "colab_type": "code",
        "outputId": "8f58f9d6-ffae-417e-a858-642630ca8dd1",
        "colab": {
          "base_uri": "https://localhost:8080/",
          "height": 34
        }
      },
      "source": [
        "history_dict = history.history\n",
        "history_dict.keys() "
      ],
      "execution_count": 0,
      "outputs": [
        {
          "output_type": "execute_result",
          "data": {
            "text/plain": [
              "dict_keys(['loss', 'acc', 'val_loss', 'val_acc'])"
            ]
          },
          "metadata": {
            "tags": []
          },
          "execution_count": 15
        }
      ]
    },
    {
      "cell_type": "code",
      "metadata": {
        "id": "pE_cmt_b2A0t",
        "colab_type": "code",
        "outputId": "c3d18dc4-a218-468b-a1d4-78e1efd7daf1",
        "colab": {
          "base_uri": "https://localhost:8080/",
          "height": 295
        }
      },
      "source": [
        "import matplotlib.pyplot as plt\n",
        "#history_dict = history.history\n",
        "acc=history_dict['acc']\n",
        "loss_values = history_dict['loss']\n",
        "val_loss_values = history_dict['val_loss']\n",
        "epochs = range(1, len(acc) + 1)\n",
        "plt.plot(epochs, loss_values, 'bo', label='Training loss')\n",
        "plt.plot(epochs, val_loss_values, 'b', label='Validation loss')\n",
        "plt.title('Training and validation loss')\n",
        "plt.xlabel('Epochs')\n",
        "plt.ylabel('Loss')\n",
        "plt.legend()\n",
        "plt.show()"
      ],
      "execution_count": 0,
      "outputs": [
        {
          "output_type": "display_data",
          "data": {
            "image/png": "[encoded data removed]",
            "text/plain": [
              "<Figure size 432x288 with 1 Axes>"
            ]
          },
          "metadata": {
            "tags": []
          }
        }
      ]
    },
    {
      "cell_type": "code",
      "metadata": {
        "id": "Xy3GewWm2UtK",
        "colab_type": "code",
        "outputId": "29d8825d-e401-4e77-d50d-d6edd97594ae",
        "colab": {
          "base_uri": "https://localhost:8080/",
          "height": 295
        }
      },
      "source": [
        "plt.clf()\n",
        "acc_values = history_dict['acc']\n",
        "val_acc_values = history_dict['val_acc']\n",
        "plt.plot(epochs, acc, 'bo', label='Training acc')\n",
        "plt.plot(epochs, val_acc_values, 'b', label='Validation acc')\n",
        "plt.title('Training and validation accuracy')\n",
        "plt.xlabel('Epochs')\n",
        "plt.ylabel('Loss')\n",
        "plt.legend()\n",
        "plt.show()"
      ],
      "execution_count": 0,
      "outputs": [
        {
          "output_type": "display_data",
          "data": {
            "image/png": "[encoded data removed]",
            "text/plain": [
              "<Figure size 432x288 with 1 Axes>"
            ]
          },
          "metadata": {
            "tags": []
          }
        }
      ]
    },
    {
      "cell_type": "code",
      "metadata": {
        "id": "wwqcO32I4mQZ",
        "colab_type": "code",
        "outputId": "f15e8dd2-1398-483b-8016-9ddf23840fbf",
        "colab": {
          "base_uri": "https://localhost:8080/",
          "height": 187
        }
      },
      "source": [
        "model = models.Sequential()\n",
        "model.add(layers.Dense(16, activation='relu', input_shape=(10000,)))\n",
        "model.add(layers.Dense(16, activation='relu'))\n",
        "model.add(layers.Dense(1, activation='sigmoid'))\n",
        "model.compile(optimizer='rmsprop',\n",
        "loss='binary_crossentropy',\n",
        "metrics=['accuracy'])\n",
        "model.fit(x_train, y_train, epochs=4, batch_size=512)\n"
      ],
      "execution_count": 0,
      "outputs": [
        {
          "output_type": "stream",
          "text": [
            "Train on 25000 samples\n",
            "Epoch 1/4\n",
            "25000/25000 [==============================] - 2s 85us/sample - loss: 0.4494 - acc: 0.8194\n",
            "Epoch 2/4\n",
            "25000/25000 [==============================] - 2s 93us/sample - loss: 0.2562 - acc: 0.9134\n",
            "Epoch 3/4\n",
            "25000/25000 [==============================] - 2s 83us/sample - loss: 0.1985 - acc: 0.9292\n",
            "Epoch 4/4\n",
            "25000/25000 [==============================] - 3s 104us/sample - loss: 0.1665 - acc: 0.9408\n"
          ],
          "name": "stdout"
        },
        {
          "output_type": "execute_result",
          "data": {
            "text/plain": [
              "<tensorflow.python.keras.callbacks.History at 0x7fdc557f2e80>"
            ]
          },
          "metadata": {
            "tags": []
          },
          "execution_count": 18
        }
      ]
    },
    {
      "cell_type": "code",
      "metadata": {
        "id": "6FyO3jdy9K4U",
        "colab_type": "code",
        "outputId": "344fd299-594c-42e6-f86c-9ae0a8f71f60",
        "colab": {
          "base_uri": "https://localhost:8080/",
          "height": 34
        }
      },
      "source": [
        "results = model.evaluate(x_test, y_test)"
      ],
      "execution_count": 0,
      "outputs": [
        {
          "output_type": "stream",
          "text": [
            "25000/25000 [==============================] - 2s 78us/sample - loss: 0.2953 - acc: 0.8838\n"
          ],
          "name": "stdout"
        }
      ]
    },
    {
      "cell_type": "code",
      "metadata": {
        "id": "CnTmlsPr_UDY",
        "colab_type": "code",
        "outputId": "e2b294f6-b475-4a67-de4b-043b2568f17e",
        "colab": {
          "base_uri": "https://localhost:8080/",
          "height": 136
        }
      },
      "source": [
        "model.predict(x_test)"
      ],
      "execution_count": 0,
      "outputs": [
        {
          "output_type": "execute_result",
          "data": {
            "text/plain": [
              "array([[0.21134019],\n",
              "       [0.9991262 ],\n",
              "       [0.807431  ],\n",
              "       ...,\n",
              "       [0.09608755],\n",
              "       [0.0722467 ],\n",
              "       [0.5835077 ]], dtype=float32)"
            ]
          },
          "metadata": {
            "tags": []
          },
          "execution_count": 20
        }
      ]
    },
    {
      "cell_type": "markdown",
      "metadata": {
        "id": "fWFu_B4rHB6J",
        "colab_type": "text"
      },
      "source": [
        "# Reuters Dataset"
      ]
    },
    {
      "cell_type": "code",
      "metadata": {
        "id": "--fuuyw4AXyz",
        "colab_type": "code",
        "outputId": "117b869b-84f3-4188-a65c-936492b6ccdd",
        "colab": {
          "base_uri": "https://localhost:8080/",
          "height": 51
        }
      },
      "source": [
        "from keras.datasets import reuters\n",
        "(train_data, train_labels), (test_data, test_labels) = reuters.load_data(\n",
        "num_words=10000)"
      ],
      "execution_count": 0,
      "outputs": [
        {
          "output_type": "stream",
          "text": [
            "Downloading data from https://s3.amazonaws.com/text-datasets/reuters.npz\n",
            "2113536/2110848 [==============================] - 0s 0us/step\n"
          ],
          "name": "stdout"
        }
      ]
    },
    {
      "cell_type": "code",
      "metadata": {
        "id": "8wcYhkKtHKF2",
        "colab_type": "code",
        "outputId": "d1b1d293-d793-44e8-ee0b-0ff9934f9435",
        "colab": {
          "base_uri": "https://localhost:8080/",
          "height": 34
        }
      },
      "source": [
        "len(train_data)"
      ],
      "execution_count": 0,
      "outputs": [
        {
          "output_type": "execute_result",
          "data": {
            "text/plain": [
              "8982"
            ]
          },
          "metadata": {
            "tags": []
          },
          "execution_count": 22
        }
      ]
    },
    {
      "cell_type": "code",
      "metadata": {
        "id": "Y711O6yEHqfi",
        "colab_type": "code",
        "outputId": "6f52ff74-0f9c-44ea-b09b-5ae0b2374b47",
        "colab": {
          "base_uri": "https://localhost:8080/",
          "height": 34
        }
      },
      "source": [
        " len(test_data)"
      ],
      "execution_count": 0,
      "outputs": [
        {
          "output_type": "execute_result",
          "data": {
            "text/plain": [
              "2246"
            ]
          },
          "metadata": {
            "tags": []
          },
          "execution_count": 23
        }
      ]
    },
    {
      "cell_type": "code",
      "metadata": {
        "id": "z-bs22wqHs-S",
        "colab_type": "code",
        "outputId": "aee9c78a-7ae0-433a-eba7-ddeef397c8bb",
        "colab": {
          "base_uri": "https://localhost:8080/",
          "height": 544
        }
      },
      "source": [
        "train_data[10]"
      ],
      "execution_count": 0,
      "outputs": [
        {
          "output_type": "execute_result",
          "data": {
            "text/plain": [
              "[1,\n",
              " 245,\n",
              " 273,\n",
              " 207,\n",
              " 156,\n",
              " 53,\n",
              " 74,\n",
              " 160,\n",
              " 26,\n",
              " 14,\n",
              " 46,\n",
              " 296,\n",
              " 26,\n",
              " 39,\n",
              " 74,\n",
              " 2979,\n",
              " 3554,\n",
              " 14,\n",
              " 46,\n",
              " 4689,\n",
              " 4329,\n",
              " 86,\n",
              " 61,\n",
              " 3499,\n",
              " 4795,\n",
              " 14,\n",
              " 61,\n",
              " 451,\n",
              " 4329,\n",
              " 17,\n",
              " 12]"
            ]
          },
          "metadata": {
            "tags": []
          },
          "execution_count": 24
        }
      ]
    },
    {
      "cell_type": "code",
      "metadata": {
        "id": "jGeiR1W6Hv-i",
        "colab_type": "code",
        "outputId": "3dfffc6b-d482-4e82-c780-01c1f2a5bef1",
        "colab": {
          "base_uri": "https://localhost:8080/",
          "height": 51
        }
      },
      "source": [
        "word_index = reuters.get_word_index()\n",
        "reverse_word_index = dict([(value, key) for (key, value) in word_index.items()])\n",
        "decoded_newswire = ' '.join([reverse_word_index.get(i - 3, '?') for i in\n",
        "train_data[0]])"
      ],
      "execution_count": 0,
      "outputs": [
        {
          "output_type": "stream",
          "text": [
            "Downloading data from https://s3.amazonaws.com/text-datasets/reuters_word_index.json\n",
            "557056/550378 [==============================] - 0s 1us/step\n"
          ],
          "name": "stdout"
        }
      ]
    },
    {
      "cell_type": "code",
      "metadata": {
        "id": "c5i7Ul9SH7md",
        "colab_type": "code",
        "outputId": "fcaa65d2-4ff9-430e-fc6c-651a3e682f22",
        "colab": {
          "base_uri": "https://localhost:8080/",
          "height": 1000
        }
      },
      "source": [
        "reverse_word_index"
      ],
      "execution_count": 0,
      "outputs": [
        {
          "output_type": "execute_result",
          "data": {
            "text/plain": [
              "{10996: 'mdbl',\n",
              " 16260: 'fawc',\n",
              " 12089: 'degussa',\n",
              " 8803: 'woods',\n",
              " 13796: 'hanging',\n",
              " 20672: 'localized',\n",
              " 20673: 'sation',\n",
              " 20675: 'chanthaburi',\n",
              " 10997: 'refunding',\n",
              " 8804: 'hermann',\n",
              " 20676: 'passsengers',\n",
              " 20677: 'stipulate',\n",
              " 8352: 'heublein',\n",
              " 20713: 'screaming',\n",
              " 16261: 'tcby',\n",
              " 185: 'four',\n",
              " 1642: 'grains',\n",
              " 20680: 'broiler',\n",
              " 12090: 'wooden',\n",
              " 1220: 'wednesday',\n",
              " 13797: 'highveld',\n",
              " 7593: 'duffour',\n",
              " 20681: '0053',\n",
              " 3914: 'elections',\n",
              " 2563: '270',\n",
              " 3551: '271',\n",
              " 5113: '272',\n",
              " 3552: '273',\n",
              " 3400: '274',\n",
              " 7975: 'rudman',\n",
              " 3401: '276',\n",
              " 3478: '277',\n",
              " 3632: '278',\n",
              " 4309: '279',\n",
              " 9381: 'dormancy',\n",
              " 7247: 'errors',\n",
              " 3086: 'deferred',\n",
              " 20683: 'sptnd',\n",
              " 8805: 'cooking',\n",
              " 20684: 'stratabit',\n",
              " 16262: 'designing',\n",
              " 20685: 'metalurgicos',\n",
              " 13798: 'databank',\n",
              " 20686: '300er',\n",
              " 20687: 'shocks',\n",
              " 7972: 'nawg',\n",
              " 20688: 'tnta',\n",
              " 20689: 'perforations',\n",
              " 2891: 'affiliates',\n",
              " 20690: '27p',\n",
              " 16263: 'ching',\n",
              " 595: 'china',\n",
              " 16264: 'wagyu',\n",
              " 3189: 'affiliated',\n",
              " 16265: 'chino',\n",
              " 16266: 'chinh',\n",
              " 20692: 'slickline',\n",
              " 13799: 'doldrums',\n",
              " 12092: 'kids',\n",
              " 3028: 'climbed',\n",
              " 6693: 'controversy',\n",
              " 20693: 'kidd',\n",
              " 12093: 'spotty',\n",
              " 12639: 'rebel',\n",
              " 9382: 'millimetres',\n",
              " 4007: 'golden',\n",
              " 5689: 'projection',\n",
              " 12094: 'stern',\n",
              " 7903: \"hudson's\",\n",
              " 10066: 'dna',\n",
              " 20695: 'dnc',\n",
              " 20696: 'hodler',\n",
              " 2394: 'lme',\n",
              " 20697: 'insolvancy',\n",
              " 13800: 'music',\n",
              " 1984: 'therefore',\n",
              " 10998: 'dns',\n",
              " 6959: 'distortions',\n",
              " 13801: 'thassos',\n",
              " 20698: 'populations',\n",
              " 8806: 'meteorologist',\n",
              " 43: 'loss',\n",
              " 9383: 'exco',\n",
              " 20813: 'adventist',\n",
              " 16267: 'murchison',\n",
              " 10999: 'locked',\n",
              " 13802: 'kampala',\n",
              " 20699: 'arndt',\n",
              " 1267: 'nakasone',\n",
              " 20700: 'steinweg',\n",
              " 3633: \"india's\",\n",
              " 3029: 'wang',\n",
              " 10067: 'wane',\n",
              " 13803: 'unjust',\n",
              " 13804: 'titanium',\n",
              " 850: 'want',\n",
              " 20701: 'pinto',\n",
              " 16268: \"institutes'\",\n",
              " 7973: 'absolute',\n",
              " 4677: 'travel',\n",
              " 6422: 'cutback',\n",
              " 16269: 'nazmi',\n",
              " 1858: 'modest',\n",
              " 16270: 'shopwell',\n",
              " 20702: 'sedi',\n",
              " 20703: 'adoped',\n",
              " 16271: 'tulis',\n",
              " 20704: '18th',\n",
              " 20705: \"wmc's\",\n",
              " 20706: 'menlo',\n",
              " 11000: 'reiners',\n",
              " 12095: 'farmlands',\n",
              " 20707: 'nonsensical',\n",
              " 20708: 'elisra',\n",
              " 2461: 'welcomed',\n",
              " 20709: 'peup',\n",
              " 16272: \"holiday's\",\n",
              " 20711: 'activating',\n",
              " 16273: 'avondale',\n",
              " 16274: 'interational',\n",
              " 20712: 'welcomes',\n",
              " 16275: 'fip',\n",
              " 11001: 'tailings',\n",
              " 4205: 'fit',\n",
              " 16276: 'lifeline',\n",
              " 1916: 'bringing',\n",
              " 4819: 'fix',\n",
              " 6164: '624',\n",
              " 12096: 'naturalite',\n",
              " 6165: 'wales',\n",
              " 8807: 'fin',\n",
              " 11129: 'fio',\n",
              " 20714: 'ceremenony',\n",
              " 20715: 'sovr',\n",
              " 20716: \"yeo's\",\n",
              " 1788: 'effects',\n",
              " 13805: 'sixteen',\n",
              " 8808: 'undeveloped',\n",
              " 13806: 'glutted',\n",
              " 20717: 'barton',\n",
              " 20718: 'froday',\n",
              " 10089: 'arrow',\n",
              " 11002: 'stabilises',\n",
              " 6960: 'allan',\n",
              " 20719: '374p',\n",
              " 3891: '393',\n",
              " 4008: '392',\n",
              " 4206: '391',\n",
              " 3079: '390',\n",
              " 4550: '397',\n",
              " 6166: '396',\n",
              " 6423: '395',\n",
              " 4207: '394',\n",
              " 6961: '399',\n",
              " 4208: '398',\n",
              " 7595: 'stabilised',\n",
              " 5114: 'smelters',\n",
              " 20720: 'oprah',\n",
              " 20721: 'orginially',\n",
              " 20722: \"tvx's\",\n",
              " 16278: 'ponomarev',\n",
              " 20723: 'enviroment',\n",
              " 20724: \"reeves'\",\n",
              " 8363: 'mason',\n",
              " 1670: 'encourage',\n",
              " 7596: 'adapt',\n",
              " 12776: 'abbott',\n",
              " 13808: 'stamping',\n",
              " 20726: 'colquiri',\n",
              " 11003: 'ambrit',\n",
              " 8353: 'strata',\n",
              " 4821: 'corrects',\n",
              " 11922: 'sandra',\n",
              " 859: 'estimate',\n",
              " 20727: 'universally',\n",
              " 20728: 'chlorine',\n",
              " 16279: 'competes',\n",
              " 10068: 'leiner',\n",
              " 8809: 'ministries',\n",
              " 8810: 'disturbed',\n",
              " 13809: 'competed',\n",
              " 8811: 'juergen',\n",
              " 13810: 'kfw',\n",
              " 11004: 'turben',\n",
              " 9384: 'reintroduced',\n",
              " 20729: 'maladies',\n",
              " 4101: 'chevron',\n",
              " 16280: 'lazere',\n",
              " 8812: 'antilles',\n",
              " 11907: 'dti',\n",
              " 9070: 'specially',\n",
              " 4678: 'bilzerian',\n",
              " 13811: 'bakelite',\n",
              " 20730: 'renovated',\n",
              " 568: 'service',\n",
              " 16281: 'payless',\n",
              " 20731: 'spiegler',\n",
              " 831: 'needed',\n",
              " 16282: 'wigglesworth',\n",
              " 6962: 'master',\n",
              " 13812: 'antonson',\n",
              " 20732: 'genesis',\n",
              " 13813: 'vismara',\n",
              " 20734: 'organically',\n",
              " 20735: \"accords'\",\n",
              " 5940: 'task',\n",
              " 7974: 'positively',\n",
              " 3479: 'feasibility',\n",
              " 6963: 'ahmed',\n",
              " 13814: \"suralco's\",\n",
              " 20736: 'awacs',\n",
              " 16283: 'idly',\n",
              " 20737: 'regulator',\n",
              " 12097: 'pseudorabies',\n",
              " 16284: 'staubli',\n",
              " 8813: 'nzi',\n",
              " 5115: 'feeling',\n",
              " 3127: '275',\n",
              " 20738: '6819',\n",
              " 16285: 'gorman',\n",
              " 8354: 'sustaining',\n",
              " 9385: 'spectrum',\n",
              " 20739: 'consenting',\n",
              " 12098: 'recapitalized',\n",
              " 11562: 'sailed',\n",
              " 7597: 'dozen',\n",
              " 1985: 'affairs',\n",
              " 2253: 'courier',\n",
              " 8355: 'kremlin',\n",
              " 895: 'shipments',\n",
              " 16286: \"aquino's\",\n",
              " 10070: 'committing',\n",
              " 5293: 'sugarcane',\n",
              " 9386: 'diminishing',\n",
              " 16287: 'vexing',\n",
              " 11005: 'simplify',\n",
              " 6167: 'mouth',\n",
              " 7248: 'steinhardt',\n",
              " 8814: 'conceded',\n",
              " 9387: 'bradford',\n",
              " 7976: 'singer',\n",
              " 20740: '5602',\n",
              " 13816: \"1987's\",\n",
              " 4950: 'tech',\n",
              " 6424: 'teck',\n",
              " 20741: 'majv',\n",
              " 666: 'saying',\n",
              " 16477: 'dickey',\n",
              " 20742: 'sweetner',\n",
              " 21149: 'teresa',\n",
              " 20743: 'ulcer',\n",
              " 13817: 'cheaply',\n",
              " 2361: 'thai',\n",
              " 6964: 'orleans',\n",
              " 16290: 'excavator',\n",
              " 6168: 'rico',\n",
              " 12099: 'lube',\n",
              " 13818: 'rick',\n",
              " 4679: 'rich',\n",
              " 13819: 'kerna',\n",
              " 950: 'rice',\n",
              " 4209: 'rica',\n",
              " 5503: 'plate',\n",
              " 16291: 'platt',\n",
              " 8356: 'altogether',\n",
              " 8815: 'jaguar',\n",
              " 20744: 'dynair',\n",
              " 8816: 'patch',\n",
              " 2892: 'ldp',\n",
              " 13820: 'boarded',\n",
              " 16292: 'precluding',\n",
              " 11006: 'clarified',\n",
              " 16293: 'sensitivity',\n",
              " 1511: 'alternative',\n",
              " 11007: 'clarifies',\n",
              " 5116: 'lots',\n",
              " 7598: 'irs',\n",
              " 20745: 'irv',\n",
              " 13821: 'iri',\n",
              " 13822: 'ira',\n",
              " 5690: 'timber',\n",
              " 20746: 'ire',\n",
              " 5219: 'discipline',\n",
              " 1937: 'extend',\n",
              " 3634: 'nature',\n",
              " 16295: \"amb's\",\n",
              " 16296: 'dunhill',\n",
              " 2142: 'extent',\n",
              " 20747: 'restrcitions',\n",
              " 2396: 'heating',\n",
              " 11008: \"mannesmann's\",\n",
              " 20748: 'outsanding',\n",
              " 20749: 'multimillions',\n",
              " 13824: 'sarcinelli',\n",
              " 6694: 'southeastern',\n",
              " 10071: 'eradicate',\n",
              " 9388: 'libyan',\n",
              " 20750: 'foreclosing',\n",
              " 12101: 'maclaine',\n",
              " 20751: 'fra',\n",
              " 353: 'union',\n",
              " 11009: 'frn',\n",
              " 386: 'much',\n",
              " 12102: 'fry',\n",
              " 20752: 'mothball',\n",
              " 10072: 'chlorazepate',\n",
              " 12103: 'dxns',\n",
              " 19981: 'toyko',\n",
              " 20753: 'spit',\n",
              " 16297: '007050',\n",
              " 16298: 'freehold',\n",
              " 13825: 'davy',\n",
              " 11010: 'dave',\n",
              " 12177: 'spie',\n",
              " 10117: 'aguayo',\n",
              " 12104: 'wildcat',\n",
              " 10069: 'fecs',\n",
              " 20754: 'kennan',\n",
              " 16299: 'intal',\n",
              " 9389: 'contingencies',\n",
              " 16551: 'professionally',\n",
              " 16300: 'microbiological',\n",
              " 20756: 'misconstrued',\n",
              " 409: 'k',\n",
              " 20757: 'securitiesd',\n",
              " 16301: 'deferring',\n",
              " 5941: 'kohl',\n",
              " 3030: 'conditioned',\n",
              " 20758: 'fnhb',\n",
              " 16302: \"october's\",\n",
              " 13954: 'memorial',\n",
              " 6965: 'democracies',\n",
              " 27520: 'conformed',\n",
              " 464: 'split',\n",
              " 12105: \"bond's\",\n",
              " 11112: 'thinly',\n",
              " 16515: 'dunkirk',\n",
              " 16303: 'cavanaugh',\n",
              " 13827: \"securities'\",\n",
              " 21345: 'marches',\n",
              " 16304: 'issam',\n",
              " 2020: 'workforce',\n",
              " 12106: 'meinert',\n",
              " 13828: 'boiler',\n",
              " 5294: \"bp's\",\n",
              " 16305: 'torpedoed',\n",
              " 20762: 'indidate',\n",
              " 13829: 'downwardly',\n",
              " 20763: 'viviez',\n",
              " 20764: 'vladiminovich',\n",
              " 16306: 'academic',\n",
              " 20765: 'architecural',\n",
              " 1117: 'corporate',\n",
              " 16307: 'appropriately',\n",
              " 20766: 'teicc',\n",
              " 20767: \"hanover's\",\n",
              " 8817: 'aristech',\n",
              " 20768: 'portrayed',\n",
              " 21383: 'raffineries',\n",
              " 20770: 'hai',\n",
              " 7599: 'hal',\n",
              " 13830: 'ham',\n",
              " 10073: 'han',\n",
              " 20771: 'e15b',\n",
              " 61: 'had',\n",
              " 20772: 'hay',\n",
              " 13831: 'botchwey',\n",
              " 10074: 'haq',\n",
              " 37: 'has',\n",
              " 13832: 'hat',\n",
              " 20773: 'hav',\n",
              " 20774: 'fortin',\n",
              " 8818: 'municipal',\n",
              " 20775: 'osman',\n",
              " 20776: 'fsical',\n",
              " 3480: 'elders',\n",
              " 12107: 'survival',\n",
              " 16308: 'unequivocally',\n",
              " 2519: 'objective',\n",
              " 6695: 'indicative',\n",
              " 10075: 'shadow',\n",
              " 21411: 'riskiness',\n",
              " 20778: 'positiive',\n",
              " 10076: \"american's\",\n",
              " 16309: 'alick',\n",
              " 16310: 'harima',\n",
              " 12108: 'alice',\n",
              " 20779: 'altschul',\n",
              " 16311: 'festivities',\n",
              " 20780: 'medecines',\n",
              " 2942: 'beneficial',\n",
              " 12109: 'yoweri',\n",
              " 13833: 'crowd',\n",
              " 9390: 'crowe',\n",
              " 3553: 'crown',\n",
              " 13679: 'topping',\n",
              " 8819: 'captive',\n",
              " 12110: 'billboard',\n",
              " 6169: 'fiduciary',\n",
              " 3402: 'bottom',\n",
              " 20782: 'plucked',\n",
              " 20783: 'locksmithing',\n",
              " 9391: 'ecopetrol',\n",
              " 24018: 'pipestone',\n",
              " 5505: \"growers'\",\n",
              " 20785: 'borrows',\n",
              " 16312: 'eduard',\n",
              " 13834: 'venpres',\n",
              " 16313: 'bamboo',\n",
              " 13835: 'foolish',\n",
              " 20786: 'uruguyan',\n",
              " 20787: 'officeholders',\n",
              " 20788: 'economiques',\n",
              " 16314: 'aden',\n",
              " 4822: 'maxwell',\n",
              " 4680: 'marshall',\n",
              " 16315: 'honeymoon',\n",
              " 16316: 'administer',\n",
              " 20790: 'shoots',\n",
              " 16317: 'rubbertech',\n",
              " 16318: 'johsen',\n",
              " 10077: 'reciprocity',\n",
              " 13836: 'fabric',\n",
              " 20791: 'suffice',\n",
              " 20792: 'spokemsan',\n",
              " 20793: \"sonora's\",\n",
              " 16319: '5865',\n",
              " 16320: \"systems'\",\n",
              " 20794: 'perfumes',\n",
              " 20795: 'halycon',\n",
              " 20796: 'nonvoting',\n",
              " 7250: 'safeguard',\n",
              " 21538: 'sawdust',\n",
              " 20797: \"else's\",\n",
              " 13837: 'arrays',\n",
              " 20798: 'aza',\n",
              " 20799: 'smasher',\n",
              " 12111: 'complications',\n",
              " 1813: 'pesos',\n",
              " 20800: 'relabelling',\n",
              " 3722: 'passenger',\n",
              " 12112: \"avon's\",\n",
              " 20801: 'megahertz',\n",
              " 10683: 'mirror',\n",
              " 8357: 'minas',\n",
              " 16322: 'bourdain',\n",
              " 20802: 'crownx',\n",
              " 6425: 'eventual',\n",
              " 1207: 'crowns',\n",
              " 1369: 'role',\n",
              " 20803: 'obliges',\n",
              " 16323: 'rolf',\n",
              " 13838: 'vegetative',\n",
              " 20804: 'rolm',\n",
              " 4419: 'roll',\n",
              " 2463: 'intend',\n",
              " 16324: 'palms',\n",
              " 19255: 'denys',\n",
              " 13839: 'transported',\n",
              " 20805: 'moresby',\n",
              " 16325: 'devon',\n",
              " 1351: 'intent',\n",
              " 20806: \"camco's\",\n",
              " 5942: 'variable',\n",
              " 20807: 'transporter',\n",
              " 16326: 'danske',\n",
              " 13840: 'friedhelm',\n",
              " 8358: 'hawker',\n",
              " 17774: \"sand's\",\n",
              " 20808: 'preseving',\n",
              " 12113: '80386',\n",
              " 16328: 'bnls',\n",
              " 19984: 'ordination',\n",
              " 11011: 'overturned',\n",
              " 16329: 'erred',\n",
              " 6696: 'cincinnati',\n",
              " 16710: 'corps',\n",
              " 20809: 'whoever',\n",
              " 16330: 'osp',\n",
              " 13841: 'osr',\n",
              " 12114: 'ost',\n",
              " 16331: 'chair',\n",
              " 5647: '690',\n",
              " 20810: 'grapples',\n",
              " 13842: 'megawatts',\n",
              " 20811: 'photocopiers',\n",
              " 20812: 'sconninx',\n",
              " 2274: 'circumstances',\n",
              " 13843: 'oversight',\n",
              " 20814: \"paradyne's\",\n",
              " 6363: '691',\n",
              " 20815: 'paychecks',\n",
              " 13844: \"stadelmann's\",\n",
              " 3241: 'choice',\n",
              " 11012: 'vastagh',\n",
              " 8820: 'embark',\n",
              " 9392: 'gloomy',\n",
              " 9393: 'stays',\n",
              " 4009: 'exact',\n",
              " 5117: 'minute',\n",
              " 11892: 'kittiwake',\n",
              " 20816: 'picul',\n",
              " 20817: 'skewed',\n",
              " 11013: 'cooke',\n",
              " 10078: 'defaults',\n",
              " 11014: 'reimpose',\n",
              " 9394: 'hindered',\n",
              " 20818: 'lengthened',\n",
              " 16333: 'chopping',\n",
              " 13845: 'mckiernan',\n",
              " 20819: 'collaspe',\n",
              " 7251: 'corazon',\n",
              " 7600: 'antwerp',\n",
              " 13846: 'abdullah',\n",
              " 13847: 'goldston',\n",
              " 442: '300',\n",
              " 20821: 'cassa',\n",
              " 20822: 'casse',\n",
              " 4081: '695',\n",
              " 2979: 'ground',\n",
              " 839: 'boost',\n",
              " 16334: 'azusa',\n",
              " 9395: 'drafted',\n",
              " 4823: '303',\n",
              " 13848: 'climbs',\n",
              " 7601: 'honour',\n",
              " 20823: 'vanderbilt',\n",
              " 3968: '305',\n",
              " 3031: 'address',\n",
              " 8821: 'dwindling',\n",
              " 7252: 'benson',\n",
              " 12115: 'enroll',\n",
              " 501: 'revenues',\n",
              " 12116: 'impacted',\n",
              " 20826: 'queue',\n",
              " 10079: 'accomplished',\n",
              " 7602: 'throughput',\n",
              " 9396: 'influx',\n",
              " 10080: 'stockbuilding',\n",
              " 20827: 'aproximates',\n",
              " 13849: 'petroleo',\n",
              " 16335: 'sistemas',\n",
              " 14053: 'feretti',\n",
              " 5943: 'opposes',\n",
              " 882: 'working',\n",
              " 20829: 'perished',\n",
              " 13850: 'oldham',\n",
              " 20830: '27000',\n",
              " 19245: 'optimize',\n",
              " 20832: 'vigour',\n",
              " 1580: 'opposed',\n",
              " 16336: 'liberalizing',\n",
              " 20833: 'wvz',\n",
              " 20834: 'dampness',\n",
              " 13851: 'approving',\n",
              " 13496: 'sierra',\n",
              " 20835: 'entrepot',\n",
              " 224: 'currency',\n",
              " 1499: 'originally',\n",
              " 20837: 'tindemans',\n",
              " 16337: 'valorem',\n",
              " 477: 'following',\n",
              " 20838: 'fossen',\n",
              " 11016: 'locke',\n",
              " 20839: 'employess',\n",
              " 12117: 'rotberg',\n",
              " 16338: 'parachute',\n",
              " 11017: 'locks',\n",
              " 12255: 'incremental',\n",
              " 16339: 'woolowrth',\n",
              " 20841: 'listens',\n",
              " 7253: 'litre',\n",
              " 3554: 'edouard',\n",
              " 1377: 'ounce',\n",
              " 20843: 'nicanor',\n",
              " 20844: 'sucocitrico',\n",
              " 16340: 'minicomputers',\n",
              " 16341: \"silva's\",\n",
              " 11018: 'restitutions',\n",
              " 16342: 'custer',\n",
              " 2590: '3rd',\n",
              " 10081: 'fueled',\n",
              " 20845: 'trydahl',\n",
              " 11019: 'aice',\n",
              " 12118: 'harmon',\n",
              " 10082: 'conscious',\n",
              " 20846: 'herbicidesand',\n",
              " 20847: 'subdivisions',\n",
              " 20848: \"veslefrikk's\",\n",
              " 11020: 'swollen',\n",
              " 7978: 'pulled',\n",
              " 20849: 'tilney',\n",
              " 203: 'years',\n",
              " 20850: 'structuring',\n",
              " 20851: 'episodes',\n",
              " 16343: 'sportscene',\n",
              " 16344: \"northair's\",\n",
              " 20852: 'jig',\n",
              " 20853: 'jin',\n",
              " 3403: 'jim',\n",
              " 8359: 'troubles',\n",
              " 13852: 'workforces',\n",
              " 2362: 'suspension',\n",
              " 3892: 'troubled',\n",
              " 16345: 'fondiaria',\n",
              " 6697: 'modestly',\n",
              " 12119: 'recipients',\n",
              " 7979: 'civilian',\n",
              " 13853: 'indigenous',\n",
              " 20854: 'overpowering',\n",
              " 1051: 'drilling',\n",
              " 16346: 'sorted',\n",
              " 16347: 'lichtenstein',\n",
              " 20855: 'bedevil',\n",
              " 20856: 'dispite',\n",
              " 16843: 'battleships',\n",
              " 4824: 'instability',\n",
              " 95: 'quarter',\n",
              " 20857: 'salado',\n",
              " 5692: 'honduras',\n",
              " 13855: \"chevron's\",\n",
              " 12273: \"lazere's\",\n",
              " 2660: 'receipt',\n",
              " 8360: 'sponsor',\n",
              " 4825: 'entering',\n",
              " 16349: \"kcbt's\",\n",
              " 19987: 'nowicki',\n",
              " 13856: 'salads',\n",
              " 16351: 'augar',\n",
              " 7980: '797',\n",
              " 7254: '796',\n",
              " 8361: '795',\n",
              " 5295: '794',\n",
              " 5118: '793',\n",
              " 6170: '792',\n",
              " 5296: '791',\n",
              " 4826: '790',\n",
              " 20858: \"nikko's\",\n",
              " 20859: 'unsaleable',\n",
              " 5720: '799',\n",
              " 5693: '798',\n",
              " 2143: 'seriously',\n",
              " 16352: 'trauma',\n",
              " 20860: 'tvbh',\n",
              " 20861: 'macedon',\n",
              " 21906: 'disintegrated',\n",
              " 21909: 'adddition',\n",
              " 2244: 'incentives',\n",
              " 5944: 'complicated',\n",
              " 20864: 'reevaluating',\n",
              " 21921: 'thatching',\n",
              " 7981: 'brasil',\n",
              " 20865: '79p',\n",
              " 4951: 'wrong',\n",
              " 8822: 'initiate',\n",
              " 16353: 'aboard',\n",
              " 7255: 'saving',\n",
              " 8823: 'spoken',\n",
              " 16364: 'parkinson',\n",
              " 65: 'one',\n",
              " 20867: 'ont',\n",
              " 7256: 'concert',\n",
              " 16354: \"boston's\",\n",
              " 13859: 'stifled',\n",
              " 4622: 'types',\n",
              " 20868: 'lingering',\n",
              " 16356: 'surges',\n",
              " 20869: 'hurdman',\n",
              " 16357: 'herds',\n",
              " 14114: 'absorbs',\n",
              " 4681: 'surged',\n",
              " 14211: 'dalkon',\n",
              " 13860: 'crossroads',\n",
              " 20870: 'shakeup',\n",
              " 20871: 'disasterous',\n",
              " 11021: 'illness',\n",
              " 3242: 'turned',\n",
              " 3801: 'locations',\n",
              " 12120: 'tyranite',\n",
              " 13861: 'minesweepers',\n",
              " 7257: 'turner',\n",
              " 20872: 'borough',\n",
              " 12358: 'underlines',\n",
              " 20873: \"bancorporation's\",\n",
              " 20874: 'fashionable',\n",
              " 20875: \"ae's\",\n",
              " 16358: 'dilutions',\n",
              " 9472: 'goodman',\n",
              " 10510: 'unlawfully',\n",
              " 16359: 'mayer',\n",
              " 16360: 'printer',\n",
              " 20877: 'offload',\n",
              " 13862: 'opposite',\n",
              " 738: 'buffer',\n",
              " 9398: 'printed',\n",
              " 16361: 'pequiven',\n",
              " 13863: 'panoche',\n",
              " 20878: 'knowingly',\n",
              " 16362: 'ecusta',\n",
              " 20879: 'thsl',\n",
              " 8825: 'phil',\n",
              " 13864: 'jitters',\n",
              " 16363: 'touche',\n",
              " 20881: 'jittery',\n",
              " 3291: 'friction',\n",
              " 16365: 'fecal',\n",
              " 22068: 'resurgance',\n",
              " 20882: 'heeding',\n",
              " 2363: 'soviets',\n",
              " 16366: 'imagined',\n",
              " 16367: 'transact',\n",
              " 20883: 'califoirnia',\n",
              " 9399: \"chrysler's\",\n",
              " 16368: 'respecitvely',\n",
              " 16369: 'presse',\n",
              " 10084: 'euromarket',\n",
              " 12121: 'guarded',\n",
              " 16371: 'satisfacotry',\n",
              " 20884: 'authroization',\n",
              " 20885: 'simplistic',\n",
              " 20886: 'monde',\n",
              " 4102: 'awaiting',\n",
              " 13865: 'recombinant',\n",
              " 20887: 'refinancement',\n",
              " 20888: 'comserv',\n",
              " 20889: 'kitakyushu',\n",
              " 16372: 'pima',\n",
              " 11022: 'basle',\n",
              " 20891: '6250',\n",
              " 16373: 'choudhury',\n",
              " 8826: 'vision',\n",
              " 20892: 'interruptible',\n",
              " 13866: 'weatherford',\n",
              " 7982: '832',\n",
              " 5694: '833',\n",
              " 4420: '830',\n",
              " 5119: '831',\n",
              " 5297: '836',\n",
              " 4553: '837',\n",
              " 6172: '834',\n",
              " 4952: '835',\n",
              " 22144: 'alarming',\n",
              " 5695: '838',\n",
              " 6173: '839',\n",
              " 20893: '524p',\n",
              " 20894: 'sponsorship',\n",
              " 12122: 'vendex',\n",
              " 20895: \"amsouth's\",\n",
              " 20896: 'kilometer',\n",
              " 10086: 'enjoys',\n",
              " 20897: 'illiberal',\n",
              " 6174: 'punta',\n",
              " 20898: 'punte',\n",
              " 10087: 'girozentrale',\n",
              " 20899: 'missstatements',\n",
              " 10088: 'marietta',\n",
              " 6175: 'awards',\n",
              " 3635: 'concentrated',\n",
              " 20900: '83p',\n",
              " 13867: 'developpement',\n",
              " 13868: 'rhodes',\n",
              " 5696: 'matheson',\n",
              " 20901: '1720',\n",
              " 20902: 'paring',\n",
              " 35: 's',\n",
              " 4953: 'concentrates',\n",
              " 16374: \"can's\",\n",
              " 22183: 'polysaturated',\n",
              " 20903: 'parini',\n",
              " 13869: 'baden',\n",
              " 20904: 'bader',\n",
              " 12123: 'buoyancy',\n",
              " 20905: 'erdem',\n",
              " 16375: 'properites',\n",
              " 20906: 'comparitive',\n",
              " 12124: 'practises',\n",
              " 20907: 'collides',\n",
              " 189: 'west',\n",
              " 20908: 'wess',\n",
              " 13870: 'collided',\n",
              " 20909: 'practised',\n",
              " 20910: \"amalgamated's\",\n",
              " 20911: 'motives',\n",
              " 1378: 'wants',\n",
              " 1273: 'formed',\n",
              " 20912: 'readings',\n",
              " 12125: 'geothermal',\n",
              " 7315: 'tightened',\n",
              " 11023: \"d'or\",\n",
              " 1109: 'former',\n",
              " 20913: 'venezulean',\n",
              " 19935: 'curd',\n",
              " 12126: 'squeezes',\n",
              " 1019: 'newspaper',\n",
              " 817: 'situation',\n",
              " 13871: 'ivey',\n",
              " 3636: 'engaged',\n",
              " 13872: 'dubious',\n",
              " 17061: 'cayacq',\n",
              " 20916: 'cobol',\n",
              " 20917: 'limping',\n",
              " 883: 'technology',\n",
              " 20919: 'koerner',\n",
              " 16376: 'debilitating',\n",
              " 7983: 'verified',\n",
              " 4010: 'otto',\n",
              " 20920: '7770',\n",
              " 16377: 'emulsions',\n",
              " 16378: \"onic's\",\n",
              " 9075: 'slate',\n",
              " 20921: 'wires',\n",
              " 5506: 'edged',\n",
              " 20922: 'assigns',\n",
              " 1341: 'singapore',\n",
              " 20923: 'deflate',\n",
              " 20924: \"strategy's\",\n",
              " 16379: 'walesa',\n",
              " 4554: 'advertisement',\n",
              " 20925: 'luyten',\n",
              " 20926: 'shrortly',\n",
              " 20927: 'corpoartion',\n",
              " 22290: 'preferance',\n",
              " 16380: 'tracking',\n",
              " 13874: 'sunnyvale',\n",
              " 20928: 'colorants',\n",
              " 16381: 'persistently',\n",
              " 16382: \"officers'\",\n",
              " 20929: \"his's\",\n",
              " 367: 'being',\n",
              " 7259: 'divestitures',\n",
              " 20930: 'steamer',\n",
              " 20931: 'rover',\n",
              " 8362: 'grounded',\n",
              " 16383: \"businessmen's\",\n",
              " 16384: 'cyanidation',\n",
              " 20932: 'overthrow',\n",
              " 20933: 'partnerhip',\n",
              " 16385: 'sumt',\n",
              " 8827: 'sums',\n",
              " 16386: 'oelmuehle',\n",
              " 16387: 'unveil',\n",
              " 13875: 'gestures',\n",
              " 20934: 'penta',\n",
              " 2544: 'traffic',\n",
              " 2428: 'preference',\n",
              " 20935: 'sumi',\n",
              " 166: 'world',\n",
              " 9400: 'postal',\n",
              " 16388: 'bced',\n",
              " 12128: 'dornbush',\n",
              " 14215: 'confine',\n",
              " 20936: '2555',\n",
              " 5945: \"zambia's\",\n",
              " 20937: 'superiority',\n",
              " 20938: 'militate',\n",
              " 2395: 'satisfactory',\n",
              " 20939: 'superintendent',\n",
              " 5946: 'tvx',\n",
              " 16389: 'tvt',\n",
              " 6698: 'magma',\n",
              " 20940: 'diving',\n",
              " 15548: 'tvb',\n",
              " 13876: 'seaman',\n",
              " 11025: 'matsunaga',\n",
              " 4827: '919',\n",
              " 5298: '918',\n",
              " 17070: 'refundable',\n",
              " 5947: '914',\n",
              " 7260: '917',\n",
              " 6699: '916',\n",
              " 5507: '911',\n",
              " 4828: '910',\n",
              " 10213: 'restoring',\n",
              " 4555: '912',\n",
              " 20942: 'squabble',\n",
              " 7261: 'retains',\n",
              " 20943: \"partner's\",\n",
              " 5300: 'leadership',\n",
              " 11026: 'graaf',\n",
              " 20944: 'spacelab',\n",
              " 1800: 'thailand',\n",
              " 9402: 'graan',\n",
              " 20945: 'exasperating',\n",
              " 12129: 'hartmarx',\n",
              " 16390: 'frights',\n",
              " 20946: 'niall',\n",
              " 11027: 'johnston',\n",
              " 16391: '91p',\n",
              " 16392: 'sensitively',\n",
              " 6016: 'porsche',\n",
              " 15494: 'prepares',\n",
              " 12130: 'lively',\n",
              " 10686: 'stoppages',\n",
              " 16394: \"associated's\",\n",
              " 12131: 'pivot',\n",
              " 1037: 'series',\n",
              " 24050: 'sese',\n",
              " 7604: 'bubble',\n",
              " 16395: 'trusses',\n",
              " 20949: 'interestate',\n",
              " 20950: 'continents',\n",
              " 20951: 'societal',\n",
              " 28: 'with',\n",
              " 6176: 'pull',\n",
              " 6700: 'rush',\n",
              " 6222: 'monopoly',\n",
              " 20953: 'operationally',\n",
              " 20954: 'dirty',\n",
              " 10090: 'abuses',\n",
              " 7262: 'prudhoe',\n",
              " 5949: 'pulp',\n",
              " 16396: 'rust',\n",
              " 20955: 'hellman',\n",
              " 20956: 'amdec',\n",
              " 16397: 'australasian',\n",
              " 13878: 'watches',\n",
              " 20957: 'hypertension',\n",
              " 20958: \"hemdale's\",\n",
              " 16398: 'formulation',\n",
              " 7605: 'watched',\n",
              " 20959: 'jargon',\n",
              " 13879: 'cream',\n",
              " 9404: 'ideally',\n",
              " 11028: 'ryavec',\n",
              " 20960: 'microoganisms',\n",
              " 13880: 'indemnify',\n",
              " 20961: 'wincenty',\n",
              " 20962: 'waving',\n",
              " 20963: \"multifood's\",\n",
              " 20964: 'midges',\n",
              " 11029: 'natalie',\n",
              " 13881: 'crosbie',\n",
              " 20965: 'posible',\n",
              " 13882: 'omnibus',\n",
              " 20966: 'assetsof',\n",
              " 13883: 'tricks',\n",
              " 16399: 'rs',\n",
              " 20967: 'kilogram',\n",
              " 25363: 'pruning',\n",
              " 13884: 'dyer',\n",
              " 20968: 'dyes',\n",
              " 20969: 'legislatures',\n",
              " 16400: 'scm',\n",
              " 9405: 'sci',\n",
              " 20970: 'riedel',\n",
              " 16401: 'ceramic',\n",
              " 6701: 'unitholders',\n",
              " 13885: 'scb',\n",
              " 20971: 'dn11',\n",
              " 20972: 'conditionality',\n",
              " 13807: \"stock's\",\n",
              " 20973: 'masland',\n",
              " 7606: 'causes',\n",
              " 10091: 'riots',\n",
              " 20974: 'norf',\n",
              " 9406: 'nord',\n",
              " 3893: 'midwest',\n",
              " 13886: 'tamils',\n",
              " 16402: 'ofthe',\n",
              " 3421: \"colombia's\",\n",
              " 11030: '24th',\n",
              " 20975: 'sant',\n",
              " 10092: 'moines',\n",
              " 22577: 'electrotechnical',\n",
              " 24534: 'proceeded',\n",
              " 20976: 'sanz',\n",
              " 13887: 'insufficiently',\n",
              " 20977: 'sang',\n",
              " 5950: 'sand',\n",
              " 16404: 'bracho',\n",
              " 805: 'small',\n",
              " 20978: 'workloads',\n",
              " 6702: 'sank',\n",
              " 20979: 'kemper',\n",
              " 16405: 'abbreviated',\n",
              " 13888: 'quicker',\n",
              " 3802: '199',\n",
              " 3243: '198',\n",
              " 2661: '195',\n",
              " 3080: '194',\n",
              " 4310: '197',\n",
              " 3894: '196',\n",
              " 2850: '191',\n",
              " 2199: '190',\n",
              " 3481: '193',\n",
              " 3350: '192',\n",
              " 582: 'past',\n",
              " 20980: 'fractionation',\n",
              " 20981: 'displays',\n",
              " 3081: 'pass',\n",
              " 202: 'investment',\n",
              " 27062: 'quals',\n",
              " 16406: 'quicken',\n",
              " 20983: \"centronic's\",\n",
              " 20984: 'menswear',\n",
              " 16407: 'clock',\n",
              " 20985: 'teape',\n",
              " 20986: 'teapa',\n",
              " 10093: 'prevailed',\n",
              " 9407: 'hebei',\n",
              " ...}"
            ]
          },
          "metadata": {
            "tags": []
          },
          "execution_count": 27
        }
      ]
    },
    {
      "cell_type": "code",
      "metadata": {
        "id": "W6x6i2_uH1e1",
        "colab_type": "code",
        "outputId": "a803947d-9238-4ada-d7e5-ae5e7f47d853",
        "colab": {
          "base_uri": "https://localhost:8080/",
          "height": 34
        }
      },
      "source": [
        "train_labels[10]"
      ],
      "execution_count": 0,
      "outputs": [
        {
          "output_type": "execute_result",
          "data": {
            "text/plain": [
              "3"
            ]
          },
          "metadata": {
            "tags": []
          },
          "execution_count": 26
        }
      ]
    },
    {
      "cell_type": "code",
      "metadata": {
        "id": "08gadrqHH4yu",
        "colab_type": "code",
        "colab": {}
      },
      "source": [
        "import numpy as np\n",
        "def vectorize_sequences(sequences, dimension=10000):\n",
        "  results = np.zeros((len(sequences), dimension))\n",
        "  for i, sequence in enumerate(sequences):\n",
        "    results[i, sequence] = 1.\n",
        "  return results\n",
        "x_train = vectorize_sequences(train_data)\n",
        "x_test = vectorize_sequences(test_data)\n"
      ],
      "execution_count": 0,
      "outputs": []
    },
    {
      "cell_type": "code",
      "metadata": {
        "id": "atz-XyL7IJdY",
        "colab_type": "code",
        "colab": {}
      },
      "source": [
        "def to_one_hot(labels, dimension=46):\n",
        "  results = np.zeros((len(labels), dimension))\n",
        "  for i, label in enumerate(labels):\n",
        "    results[i, label] = 1.\n",
        "  return results\n",
        "one_hot_train_labels = to_one_hot(train_labels)\n",
        "one_hot_test_labels = to_one_hot(test_labels)"
      ],
      "execution_count": 0,
      "outputs": []
    },
    {
      "cell_type": "code",
      "metadata": {
        "id": "zXtV4Hx_IgfD",
        "colab_type": "code",
        "colab": {}
      },
      "source": [
        "from keras.utils.np_utils import to_categorical\n",
        "one_hot_train_labels = to_categorical(train_labels)\n",
        "one_hot_test_labels = to_categorical(test_labels)"
      ],
      "execution_count": 0,
      "outputs": []
    },
    {
      "cell_type": "code",
      "metadata": {
        "id": "IU8bVwAdIqAe",
        "colab_type": "code",
        "outputId": "0371bbdd-3b00-4008-c5e8-2a5e915d987b",
        "colab": {
          "base_uri": "https://localhost:8080/",
          "height": 71
        }
      },
      "source": [
        "from keras import models\n",
        "from keras import layers\n",
        "model = models.Sequential()\n",
        "model.add(layers.Dense(64, activation='relu', input_shape=(10000,)))\n",
        "model.add(layers.Dense(64, activation='relu'))\n",
        "model.add(layers.Dense(46, activation='softmax'))"
      ],
      "execution_count": 0,
      "outputs": [
        {
          "output_type": "stream",
          "text": [
            "WARNING:tensorflow:From /usr/local/lib/python3.6/dist-packages/keras/backend/tensorflow_backend.py:66: The name tf.get_default_graph is deprecated. Please use tf.compat.v1.get_default_graph instead.\n",
            "\n"
          ],
          "name": "stdout"
        }
      ]
    },
    {
      "cell_type": "code",
      "metadata": {
        "id": "DRhnEk5FIsP-",
        "colab_type": "code",
        "outputId": "82b8fff8-6cbf-48f3-a4be-9feed266b1a8",
        "colab": {
          "base_uri": "https://localhost:8080/",
          "height": 71
        }
      },
      "source": [
        "model.compile(optimizer='rmsprop',\n",
        "loss='categorical_crossentropy',\n",
        "metrics=['accuracy'])"
      ],
      "execution_count": 0,
      "outputs": [
        {
          "output_type": "stream",
          "text": [
            "WARNING:tensorflow:From /usr/local/lib/python3.6/dist-packages/keras/optimizers.py:793: The name tf.train.Optimizer is deprecated. Please use tf.compat.v1.train.Optimizer instead.\n",
            "\n"
          ],
          "name": "stdout"
        }
      ]
    },
    {
      "cell_type": "code",
      "metadata": {
        "id": "YN-_XmBQIuae",
        "colab_type": "code",
        "colab": {}
      },
      "source": [
        "x_val = x_train[:1000]\n",
        "partial_x_train = x_train[1000:]\n",
        "y_val = one_hot_train_labels[:1000]\n",
        "partial_y_train = one_hot_train_labels[1000:]"
      ],
      "execution_count": 0,
      "outputs": []
    },
    {
      "cell_type": "code",
      "metadata": {
        "id": "upuCWOGjIw9w",
        "colab_type": "code",
        "outputId": "ed9208d4-0630-474c-e9c0-fcdf74f8900e",
        "colab": {
          "base_uri": "https://localhost:8080/",
          "height": 714
        }
      },
      "source": [
        "history = model.fit(partial_x_train,\n",
        "partial_y_train,\n",
        "epochs=20,\n",
        "batch_size=512,\n",
        "validation_data=(x_val, y_val))"
      ],
      "execution_count": 0,
      "outputs": [
        {
          "output_type": "stream",
          "text": [
            "Train on 7982 samples, validate on 1000 samples\n",
            "Epoch 1/20\n",
            "7982/7982 [==============================] - 1s 178us/step - loss: 2.6611 - acc: 0.4830 - val_loss: 1.7505 - val_acc: 0.6480\n",
            "Epoch 2/20\n",
            "7982/7982 [==============================] - 1s 135us/step - loss: 1.4291 - acc: 0.7105 - val_loss: 1.2862 - val_acc: 0.7320\n",
            "Epoch 3/20\n",
            "7982/7982 [==============================] - 1s 131us/step - loss: 1.0523 - acc: 0.7766 - val_loss: 1.1173 - val_acc: 0.7790\n",
            "Epoch 4/20\n",
            "7982/7982 [==============================] - 1s 132us/step - loss: 0.8229 - acc: 0.8262 - val_loss: 1.0097 - val_acc: 0.7910\n",
            "Epoch 5/20\n",
            "7982/7982 [==============================] - 1s 131us/step - loss: 0.6597 - acc: 0.8618 - val_loss: 0.9590 - val_acc: 0.8040\n",
            "Epoch 6/20\n",
            "7982/7982 [==============================] - 1s 132us/step - loss: 0.5195 - acc: 0.8929 - val_loss: 0.9169 - val_acc: 0.8150\n",
            "Epoch 7/20\n",
            "7982/7982 [==============================] - 1s 131us/step - loss: 0.4225 - acc: 0.9139 - val_loss: 0.8871 - val_acc: 0.8200\n",
            "Epoch 8/20\n",
            "7982/7982 [==============================] - 1s 133us/step - loss: 0.3467 - acc: 0.9267 - val_loss: 0.9004 - val_acc: 0.8120\n",
            "Epoch 9/20\n",
            "7982/7982 [==============================] - 1s 133us/step - loss: 0.2848 - acc: 0.9379 - val_loss: 0.8965 - val_acc: 0.8160\n",
            "Epoch 10/20\n",
            "7982/7982 [==============================] - 1s 132us/step - loss: 0.2419 - acc: 0.9454 - val_loss: 0.9431 - val_acc: 0.8140\n",
            "Epoch 11/20\n",
            "7982/7982 [==============================] - 1s 135us/step - loss: 0.2088 - acc: 0.9488 - val_loss: 0.9124 - val_acc: 0.8130\n",
            "Epoch 12/20\n",
            "7982/7982 [==============================] - 1s 133us/step - loss: 0.1856 - acc: 0.9515 - val_loss: 0.9344 - val_acc: 0.8180\n",
            "Epoch 13/20\n",
            "7982/7982 [==============================] - 1s 134us/step - loss: 0.1675 - acc: 0.9533 - val_loss: 0.9628 - val_acc: 0.8100\n",
            "Epoch 14/20\n",
            "7982/7982 [==============================] - 1s 131us/step - loss: 0.1549 - acc: 0.9528 - val_loss: 0.9803 - val_acc: 0.8120\n",
            "Epoch 15/20\n",
            "7982/7982 [==============================] - 1s 132us/step - loss: 0.1439 - acc: 0.9546 - val_loss: 1.0112 - val_acc: 0.8060\n",
            "Epoch 16/20\n",
            "7982/7982 [==============================] - 1s 132us/step - loss: 0.1365 - acc: 0.9533 - val_loss: 1.0312 - val_acc: 0.8080\n",
            "Epoch 17/20\n",
            "7982/7982 [==============================] - 1s 133us/step - loss: 0.1271 - acc: 0.9565 - val_loss: 1.1335 - val_acc: 0.7910\n",
            "Epoch 18/20\n",
            "7982/7982 [==============================] - 1s 133us/step - loss: 0.1229 - acc: 0.9574 - val_loss: 1.0223 - val_acc: 0.8060\n",
            "Epoch 19/20\n",
            "7982/7982 [==============================] - 1s 134us/step - loss: 0.1164 - acc: 0.9593 - val_loss: 1.0548 - val_acc: 0.8030\n",
            "Epoch 20/20\n",
            "7982/7982 [==============================] - 1s 132us/step - loss: 0.1130 - acc: 0.9577 - val_loss: 1.1542 - val_acc: 0.7960\n"
          ],
          "name": "stdout"
        }
      ]
    },
    {
      "cell_type": "code",
      "metadata": {
        "id": "pfsE4z0BJjuB",
        "colab_type": "code",
        "outputId": "9ae7c044-c645-4669-cd31-c9a2089a0087",
        "colab": {
          "base_uri": "https://localhost:8080/",
          "height": 295
        }
      },
      "source": [
        "import matplotlib.pyplot as plt\n",
        "loss = history.history['loss']\n",
        "val_loss = history.history['val_loss']\n",
        "epochs = range(1, len(loss) + 1)\n",
        "plt.plot(epochs, loss, 'bo', label='Training loss')\n",
        "plt.plot(epochs, val_loss, 'b', label='Validation loss')\n",
        "plt.title('Training and validation loss')\n",
        "plt.xlabel('Epochs')\n",
        "plt.ylabel('Loss')\n",
        "plt.legend()\n",
        "plt.show()"
      ],
      "execution_count": 0,
      "outputs": [
        {
          "output_type": "display_data",
          "data": {
            "image/png": "[encoded data removed]",
            "text/plain": [
              "<Figure size 432x288 with 1 Axes>"
            ]
          },
          "metadata": {
            "tags": []
          }
        }
      ]
    },
    {
      "cell_type": "code",
      "metadata": {
        "id": "XOtdMQGlIzKY",
        "colab_type": "code",
        "outputId": "684da0d5-09e7-4461-cdc3-223381a53a52",
        "colab": {
          "base_uri": "https://localhost:8080/",
          "height": 295
        }
      },
      "source": [
        "plt.clf()\n",
        "acc = history.history['acc']\n",
        "val_acc = history.history['val_acc']\n",
        "plt.plot(epochs, acc, 'bo', label='Training acc')\n",
        "plt.plot(epochs, val_acc, 'b', label='Validation acc')\n",
        "plt.title('Training and validation accuracy')\n",
        "plt.xlabel('Epochs')\n",
        "plt.ylabel('Loss')\n",
        "plt.legend()\n",
        "plt.show()"
      ],
      "execution_count": 0,
      "outputs": [
        {
          "output_type": "display_data",
          "data": {
            "image/png": "[encoded data removed]",
            "text/plain": [
              "<Figure size 432x288 with 1 Axes>"
            ]
          },
          "metadata": {
            "tags": []
          }
        }
      ]
    },
    {
      "cell_type": "code",
      "metadata": {
        "id": "4kG-m92aJe-5",
        "colab_type": "code",
        "outputId": "9604f884-7255-4d3a-b4e7-6a4948b5347e",
        "colab": {
          "base_uri": "https://localhost:8080/",
          "height": 357
        }
      },
      "source": [
        "model = models.Sequential()\n",
        "model.add(layers.Dense(64, activation='relu', input_shape=(10000,)))\n",
        "model.add(layers.Dense(64, activation='relu'))\n",
        "model.add(layers.Dense(46, activation='softmax'))\n",
        "model.compile(optimizer='rmsprop',\n",
        "loss='categorical_crossentropy',\n",
        "metrics=['accuracy'])\n",
        "model.fit(partial_x_train,\n",
        "partial_y_train,\n",
        "epochs=9,\n",
        "batch_size=512,\n",
        "validation_data=(x_val, y_val))"
      ],
      "execution_count": 0,
      "outputs": [
        {
          "output_type": "stream",
          "text": [
            "Train on 7982 samples, validate on 1000 samples\n",
            "Epoch 1/9\n",
            "7982/7982 [==============================] - 1s 170us/step - loss: 2.5733 - acc: 0.5195 - val_loss: 1.6587 - val_acc: 0.6550\n",
            "Epoch 2/9\n",
            "7982/7982 [==============================] - 1s 135us/step - loss: 1.3454 - acc: 0.7212 - val_loss: 1.2486 - val_acc: 0.7340\n",
            "Epoch 3/9\n",
            "7982/7982 [==============================] - 1s 131us/step - loss: 1.0008 - acc: 0.7880 - val_loss: 1.1021 - val_acc: 0.7680\n",
            "Epoch 4/9\n",
            "7982/7982 [==============================] - 1s 133us/step - loss: 0.7907 - acc: 0.8344 - val_loss: 1.0045 - val_acc: 0.7810\n",
            "Epoch 5/9\n",
            "7982/7982 [==============================] - 1s 131us/step - loss: 0.6323 - acc: 0.8681 - val_loss: 0.9430 - val_acc: 0.8040\n",
            "Epoch 6/9\n",
            "7982/7982 [==============================] - 1s 131us/step - loss: 0.5071 - acc: 0.8940 - val_loss: 0.9226 - val_acc: 0.8070\n",
            "Epoch 7/9\n",
            "7982/7982 [==============================] - 1s 131us/step - loss: 0.4141 - acc: 0.9129 - val_loss: 0.8951 - val_acc: 0.8140\n",
            "Epoch 8/9\n",
            "7982/7982 [==============================] - 1s 132us/step - loss: 0.3401 - acc: 0.9295 - val_loss: 0.9442 - val_acc: 0.8050\n",
            "Epoch 9/9\n",
            "7982/7982 [==============================] - 1s 132us/step - loss: 0.2860 - acc: 0.9400 - val_loss: 0.9092 - val_acc: 0.8170\n"
          ],
          "name": "stdout"
        },
        {
          "output_type": "execute_result",
          "data": {
            "text/plain": [
              "<keras.callbacks.History at 0x7fdc4e350d68>"
            ]
          },
          "metadata": {
            "tags": []
          },
          "execution_count": 43
        }
      ]
    },
    {
      "cell_type": "code",
      "metadata": {
        "id": "ANVMouBnJooR",
        "colab_type": "code",
        "outputId": "952832e9-41c5-4e21-c97f-099e3e62adb6",
        "colab": {
          "base_uri": "https://localhost:8080/",
          "height": 34
        }
      },
      "source": [
        "results = model.evaluate(x_test, one_hot_test_labels)"
      ],
      "execution_count": 0,
      "outputs": [
        {
          "output_type": "stream",
          "text": [
            "2246/2246 [==============================] - 0s 122us/step\n"
          ],
          "name": "stdout"
        }
      ]
    },
    {
      "cell_type": "code",
      "metadata": {
        "id": "Jal2g9hrJrds",
        "colab_type": "code",
        "outputId": "6f7638a5-4c66-4cd8-d09a-3e4d16a51efe",
        "colab": {
          "base_uri": "https://localhost:8080/",
          "height": 34
        }
      },
      "source": [
        "results"
      ],
      "execution_count": 0,
      "outputs": [
        {
          "output_type": "execute_result",
          "data": {
            "text/plain": [
              "[0.9999918141539141, 0.7831700801424755]"
            ]
          },
          "metadata": {
            "tags": []
          },
          "execution_count": 45
        }
      ]
    },
    {
      "cell_type": "code",
      "metadata": {
        "id": "3S6-xlDsJuiz",
        "colab_type": "code",
        "outputId": "9a15da18-356a-4f02-e9a3-4b8f3bb76957",
        "colab": {
          "base_uri": "https://localhost:8080/",
          "height": 34
        }
      },
      "source": [
        "import copy\n",
        "test_labels_copy = copy.copy(test_labels)\n",
        "np.random.shuffle(test_labels_copy)\n",
        "hits_array = np.array(test_labels) == np.array(test_labels_copy)\n",
        "float(np.sum(hits_array)) / len(test_labels)"
      ],
      "execution_count": 0,
      "outputs": [
        {
          "output_type": "execute_result",
          "data": {
            "text/plain": [
              "0.18165627782724844"
            ]
          },
          "metadata": {
            "tags": []
          },
          "execution_count": 46
        }
      ]
    },
    {
      "cell_type": "code",
      "metadata": {
        "id": "3ihp-QYzKP_5",
        "colab_type": "code",
        "colab": {}
      },
      "source": [
        "predictions = model.predict(x_test)"
      ],
      "execution_count": 0,
      "outputs": []
    },
    {
      "cell_type": "code",
      "metadata": {
        "id": "3zNSOlVZKSuR",
        "colab_type": "code",
        "colab": {}
      },
      "source": [
        ""
      ],
      "execution_count": 0,
      "outputs": []
    }
  ]
}