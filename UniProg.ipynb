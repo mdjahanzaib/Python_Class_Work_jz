{
 "cells": [
  {
   "cell_type": "code",
   "execution_count": 1,
   "metadata": {},
   "outputs": [],
   "source": [
    "import numpy as np\n",
    "import pandas as pd\n",
    "df=pd.read_csv('uni_adm.csv')"
   ]
  },
  {
   "cell_type": "code",
   "execution_count": 2,
   "metadata": {},
   "outputs": [],
   "source": [
    "from tensorflow.keras import models\n",
    "from tensorflow.keras import layers\n",
    "from tensorflow.keras.models import Sequential\n",
    "from tensorflow.keras.layers import Dense"
   ]
  },
  {
   "cell_type": "code",
   "execution_count": 3,
   "metadata": {},
   "outputs": [],
   "source": [
    "#df"
   ]
  },
  {
   "cell_type": "code",
   "execution_count": 4,
   "metadata": {},
   "outputs": [],
   "source": [
    "dataset=df.values"
   ]
  },
  {
   "cell_type": "code",
   "execution_count": 5,
   "metadata": {},
   "outputs": [
    {
     "data": {
      "text/plain": [
       "array([[  1.  , 337.  , 118.  , ...,   9.65,   1.  ,   0.92],\n",
       "       [  2.  , 324.  , 107.  , ...,   8.87,   1.  ,   0.76],\n",
       "       [  3.  , 316.  , 104.  , ...,   8.  ,   1.  ,   0.72],\n",
       "       ...,\n",
       "       [498.  , 330.  , 120.  , ...,   9.56,   1.  ,   0.93],\n",
       "       [499.  , 312.  , 103.  , ...,   8.43,   0.  ,   0.73],\n",
       "       [500.  , 327.  , 113.  , ...,   9.04,   0.  ,   0.84]])"
      ]
     },
     "execution_count": 5,
     "metadata": {},
     "output_type": "execute_result"
    }
   ],
   "source": [
    "dataset"
   ]
  },
  {
   "cell_type": "code",
   "execution_count": 6,
   "metadata": {},
   "outputs": [],
   "source": [
    "complete_data=df.copy()"
   ]
  },
  {
   "cell_type": "code",
   "execution_count": 7,
   "metadata": {},
   "outputs": [],
   "source": [
    "data=dataset[:,1:8]\n",
    "labels=dataset[:,8]"
   ]
  },
  {
   "cell_type": "code",
   "execution_count": 8,
   "metadata": {},
   "outputs": [],
   "source": [
    "train_data=data[:400]\n",
    "test_data=data[400:]"
   ]
  },
  {
   "cell_type": "code",
   "execution_count": 9,
   "metadata": {},
   "outputs": [],
   "source": [
    "train_labels=labels[:400]\n",
    "test_labels=labels[400:]"
   ]
  },
  {
   "cell_type": "markdown",
   "metadata": {},
   "source": [
    "# Normalize"
   ]
  },
  {
   "cell_type": "code",
   "execution_count": 10,
   "metadata": {},
   "outputs": [],
   "source": [
    "mean=train_data.mean(axis=0)\n",
    "train_data -=mean\n",
    "std = train_data.std(axis=0)\n",
    "train_data /= std\n",
    "test_data -= mean\n",
    "test_data /= std"
   ]
  },
  {
   "cell_type": "markdown",
   "metadata": {},
   "source": [
    "# Build Network"
   ]
  },
  {
   "cell_type": "code",
   "execution_count": 11,
   "metadata": {},
   "outputs": [
    {
     "name": "stdout",
     "output_type": "stream",
     "text": [
      "WARNING:tensorflow:From C:\\Users\\STUDENT\\Anaconda3\\lib\\site-packages\\tensorflow\\python\\ops\\resource_variable_ops.py:435: colocate_with (from tensorflow.python.framework.ops) is deprecated and will be removed in a future version.\n",
      "Instructions for updating:\n",
      "Colocations handled automatically by placer.\n",
      "WARNING:tensorflow:From C:\\Users\\STUDENT\\Anaconda3\\lib\\site-packages\\tensorflow\\python\\keras\\utils\\losses_utils.py:170: to_float (from tensorflow.python.ops.math_ops) is deprecated and will be removed in a future version.\n",
      "Instructions for updating:\n",
      "Use tf.cast instead.\n"
     ]
    }
   ],
   "source": [
    "model = models.Sequential()\n",
    "model.add(layers.Dense(35,activation = 'relu',input_shape=(train_data.shape[1],)))\n",
    "model.add(layers.Dense(10, activation='relu'))\n",
    "model.add(layers.Dense(1, activation='sigmoid'))\n",
    "model.compile(optimizer='rmsprop',loss='mse',metrics=['accuracy'])\n",
    "    "
   ]
  },
  {
   "cell_type": "code",
   "execution_count": 12,
   "metadata": {},
   "outputs": [
    {
     "name": "stderr",
     "output_type": "stream",
     "text": [
      "Using TensorFlow backend.\n"
     ]
    }
   ],
   "source": [
    "from keras.utils import to_categorical\n",
    "train_labels = to_categorical(train_labels)\n",
    "test_labels = to_categorical(test_labels)"
   ]
  },
  {
   "cell_type": "code",
   "execution_count": 13,
   "metadata": {},
   "outputs": [
    {
     "name": "stdout",
     "output_type": "stream",
     "text": [
      "WARNING:tensorflow:From C:\\Users\\STUDENT\\Anaconda3\\lib\\site-packages\\tensorflow\\python\\ops\\math_ops.py:3066: to_int32 (from tensorflow.python.ops.math_ops) is deprecated and will be removed in a future version.\n",
      "Instructions for updating:\n",
      "Use tf.cast instead.\n",
      "Epoch 1/100\n",
      "5/5 [==============================] - 0s 81ms/step - loss: 0.1723 - acc: 0.8910\n",
      "Epoch 2/100\n",
      "5/5 [==============================] - 0s 2ms/step - loss: 0.1286 - acc: 0.9740\n",
      "Epoch 3/100\n",
      "5/5 [==============================] - 0s 3ms/step - loss: 0.1042 - acc: 0.9930\n",
      "Epoch 4/100\n",
      "5/5 [==============================] - 0s 2ms/step - loss: 0.0858 - acc: 0.9950\n",
      "Epoch 5/100\n",
      "5/5 [==============================] - 0s 2ms/step - loss: 0.0711 - acc: 0.9990\n",
      "Epoch 6/100\n",
      "5/5 [==============================] - 0s 3ms/step - loss: 0.0590 - acc: 1.0000\n",
      "Epoch 7/100\n",
      "5/5 [==============================] - 0s 2ms/step - loss: 0.0489 - acc: 1.0000\n",
      "Epoch 8/100\n",
      "5/5 [==============================] - 0s 2ms/step - loss: 0.0402 - acc: 1.0000\n",
      "Epoch 9/100\n",
      "5/5 [==============================] - 0s 2ms/step - loss: 0.0330 - acc: 1.0000\n",
      "Epoch 10/100\n",
      "5/5 [==============================] - 0s 3ms/step - loss: 0.0269 - acc: 1.0000\n",
      "Epoch 11/100\n",
      "5/5 [==============================] - 0s 2ms/step - loss: 0.0217 - acc: 1.0000\n",
      "Epoch 12/100\n",
      "5/5 [==============================] - 0s 3ms/step - loss: 0.0174 - acc: 1.0000\n",
      "Epoch 13/100\n",
      "5/5 [==============================] - 0s 3ms/step - loss: 0.0139 - acc: 1.0000\n",
      "Epoch 14/100\n",
      "5/5 [==============================] - 0s 3ms/step - loss: 0.0111 - acc: 1.0000\n",
      "Epoch 15/100\n",
      "5/5 [==============================] - 0s 3ms/step - loss: 0.0088 - acc: 1.0000\n",
      "Epoch 16/100\n",
      "5/5 [==============================] - 0s 3ms/step - loss: 0.0069 - acc: 1.0000\n",
      "Epoch 17/100\n",
      "5/5 [==============================] - 0s 3ms/step - loss: 0.0055 - acc: 1.0000\n",
      "Epoch 18/100\n",
      "5/5 [==============================] - 0s 3ms/step - loss: 0.0044 - acc: 1.0000\n",
      "Epoch 19/100\n",
      "5/5 [==============================] - 0s 3ms/step - loss: 0.0035 - acc: 1.0000\n",
      "Epoch 20/100\n",
      "5/5 [==============================] - 0s 3ms/step - loss: 0.0028 - acc: 1.0000\n",
      "Epoch 21/100\n",
      "5/5 [==============================] - 0s 2ms/step - loss: 0.0022 - acc: 1.0000\n",
      "Epoch 22/100\n",
      "5/5 [==============================] - 0s 2ms/step - loss: 0.0017 - acc: 1.0000\n",
      "Epoch 23/100\n",
      "5/5 [==============================] - 0s 3ms/step - loss: 0.0014 - acc: 1.0000\n",
      "Epoch 24/100\n",
      "5/5 [==============================] - 0s 2ms/step - loss: 0.0011 - acc: 1.0000\n",
      "Epoch 25/100\n",
      "5/5 [==============================] - 0s 2ms/step - loss: 8.4700e-04 - acc: 1.0000\n",
      "Epoch 26/100\n",
      "5/5 [==============================] - 0s 3ms/step - loss: 6.6669e-04 - acc: 1.0000\n",
      "Epoch 27/100\n",
      "5/5 [==============================] - ETA: 0s - loss: 5.7564e-04 - acc: 1.000 - 0s 3ms/step - loss: 5.2356e-04 - acc: 1.0000\n",
      "Epoch 28/100\n",
      "5/5 [==============================] - 0s 3ms/step - loss: 4.1021e-04 - acc: 1.0000\n",
      "Epoch 29/100\n",
      "5/5 [==============================] - 0s 3ms/step - loss: 3.2094e-04 - acc: 1.0000\n",
      "Epoch 30/100\n",
      "5/5 [==============================] - 0s 3ms/step - loss: 2.5107e-04 - acc: 1.0000\n",
      "Epoch 31/100\n",
      "5/5 [==============================] - 0s 3ms/step - loss: 1.9634e-04 - acc: 1.0000\n",
      "Epoch 32/100\n",
      "5/5 [==============================] - 0s 3ms/step - loss: 1.5350e-04 - acc: 1.0000\n",
      "Epoch 33/100\n",
      "5/5 [==============================] - 0s 3ms/step - loss: 1.1999e-04 - acc: 1.0000\n",
      "Epoch 34/100\n",
      "5/5 [==============================] - 0s 3ms/step - loss: 9.3759e-05 - acc: 1.0000\n",
      "Epoch 35/100\n",
      "5/5 [==============================] - 0s 3ms/step - loss: 7.3233e-05 - acc: 1.0000\n",
      "Epoch 36/100\n",
      "5/5 [==============================] - 0s 3ms/step - loss: 5.7161e-05 - acc: 1.0000\n",
      "Epoch 37/100\n",
      "5/5 [==============================] - 0s 3ms/step - loss: 4.4590e-05 - acc: 1.0000\n",
      "Epoch 38/100\n",
      "5/5 [==============================] - 0s 3ms/step - loss: 3.4765e-05 - acc: 1.0000\n",
      "Epoch 39/100\n",
      "5/5 [==============================] - 0s 3ms/step - loss: 2.7082e-05 - acc: 1.0000\n",
      "Epoch 40/100\n",
      "5/5 [==============================] - 0s 2ms/step - loss: 2.1085e-05 - acc: 1.0000\n",
      "Epoch 41/100\n",
      "5/5 [==============================] - 0s 3ms/step - loss: 1.6405e-05 - acc: 1.0000\n",
      "Epoch 42/100\n",
      "5/5 [==============================] - 0s 2ms/step - loss: 1.2762e-05 - acc: 1.0000\n",
      "Epoch 43/100\n",
      "5/5 [==============================] - 0s 3ms/step - loss: 9.9273e-06 - acc: 1.0000\n",
      "Epoch 44/100\n",
      "5/5 [==============================] - 0s 3ms/step - loss: 7.7204e-06 - acc: 1.0000\n",
      "Epoch 45/100\n",
      "5/5 [==============================] - 0s 3ms/step - loss: 6.0048e-06 - acc: 1.0000\n",
      "Epoch 46/100\n",
      "5/5 [==============================] - 0s 2ms/step - loss: 4.6720e-06 - acc: 1.0000\n",
      "Epoch 47/100\n",
      "5/5 [==============================] - 0s 3ms/step - loss: 3.6366e-06 - acc: 1.0000\n",
      "Epoch 48/100\n",
      "5/5 [==============================] - 0s 3ms/step - loss: 2.8324e-06 - acc: 1.0000\n",
      "Epoch 49/100\n",
      "5/5 [==============================] - ETA: 0s - loss: 2.4325e-06 - acc: 1.000 - 0s 2ms/step - loss: 2.2073e-06 - acc: 1.0000\n",
      "Epoch 50/100\n",
      "5/5 [==============================] - 0s 3ms/step - loss: 1.7213e-06 - acc: 1.0000\n",
      "Epoch 51/100\n",
      "5/5 [==============================] - 0s 3ms/step - loss: 1.3443e-06 - acc: 1.0000\n",
      "Epoch 52/100\n",
      "5/5 [==============================] - 0s 2ms/step - loss: 1.0518e-06 - acc: 1.0000\n",
      "Epoch 53/100\n",
      "5/5 [==============================] - 0s 2ms/step - loss: 8.2477e-07 - acc: 1.0000\n",
      "Epoch 54/100\n",
      "5/5 [==============================] - 0s 3ms/step - loss: 6.4846e-07 - acc: 1.0000\n",
      "Epoch 55/100\n",
      "5/5 [==============================] - 0s 3ms/step - loss: 5.1136e-07 - acc: 1.0000\n",
      "Epoch 56/100\n",
      "5/5 [==============================] - 0s 2ms/step - loss: 4.0465e-07 - acc: 1.0000\n",
      "Epoch 57/100\n",
      "5/5 [==============================] - 0s 3ms/step - loss: 3.2143e-07 - acc: 1.0000\n",
      "Epoch 58/100\n",
      "5/5 [==============================] - 0s 3ms/step - loss: 2.5647e-07 - acc: 1.0000\n",
      "Epoch 59/100\n",
      "5/5 [==============================] - 0s 3ms/step - loss: 2.0568e-07 - acc: 1.0000\n",
      "Epoch 60/100\n",
      "5/5 [==============================] - 0s 3ms/step - loss: 1.6585e-07 - acc: 1.0000\n",
      "Epoch 61/100\n",
      "5/5 [==============================] - 0s 3ms/step - loss: 1.3459e-07 - acc: 1.0000\n",
      "Epoch 62/100\n",
      "5/5 [==============================] - 0s 3ms/step - loss: 1.0996e-07 - acc: 1.0000\n",
      "Epoch 63/100\n",
      "5/5 [==============================] - 0s 3ms/step - loss: 9.0496e-08 - acc: 1.0000\n",
      "Epoch 64/100\n",
      "5/5 [==============================] - 0s 3ms/step - loss: 7.5057e-08 - acc: 1.0000\n",
      "Epoch 65/100\n",
      "5/5 [==============================] - 0s 3ms/step - loss: 6.2749e-08 - acc: 1.0000\n",
      "Epoch 66/100\n",
      "5/5 [==============================] - 0s 3ms/step - loss: 5.2888e-08 - acc: 1.0000\n",
      "Epoch 67/100\n",
      "5/5 [==============================] - 0s 3ms/step - loss: 4.4942e-08 - acc: 1.0000\n",
      "Epoch 68/100\n",
      "5/5 [==============================] - 0s 3ms/step - loss: 3.8507e-08 - acc: 1.0000\n",
      "Epoch 69/100\n",
      "5/5 [==============================] - 0s 3ms/step - loss: 3.3262e-08 - acc: 1.0000\n",
      "Epoch 70/100\n",
      "5/5 [==============================] - 0s 3ms/step - loss: 2.8962e-08 - acc: 1.0000\n",
      "Epoch 71/100\n",
      "5/5 [==============================] - 0s 3ms/step - loss: 2.5411e-08 - acc: 1.0000\n",
      "Epoch 72/100\n",
      "5/5 [==============================] - 0s 3ms/step - loss: 2.2465e-08 - acc: 1.0000\n",
      "Epoch 73/100\n",
      "5/5 [==============================] - 0s 3ms/step - loss: 2.0004e-08 - acc: 1.0000\n",
      "Epoch 74/100\n",
      "5/5 [==============================] - 0s 3ms/step - loss: 1.7933e-08 - acc: 1.0000\n",
      "Epoch 75/100\n",
      "5/5 [==============================] - 0s 3ms/step - loss: 1.6181e-08 - acc: 1.0000\n",
      "Epoch 76/100\n",
      "5/5 [==============================] - 0s 3ms/step - loss: 1.4685e-08 - acc: 1.0000\n",
      "Epoch 77/100\n",
      "5/5 [==============================] - 0s 3ms/step - loss: 1.3401e-08 - acc: 1.0000\n",
      "Epoch 78/100\n",
      "5/5 [==============================] - 0s 3ms/step - loss: 1.2292e-08 - acc: 1.0000\n",
      "Epoch 79/100\n",
      "5/5 [==============================] - 0s 3ms/step - loss: 1.1329e-08 - acc: 1.0000\n",
      "Epoch 80/100\n",
      "5/5 [==============================] - 0s 3ms/step - loss: 1.0488e-08 - acc: 1.0000\n",
      "Epoch 81/100\n",
      "5/5 [==============================] - 0s 3ms/step - loss: 9.7491e-09 - acc: 1.0000\n",
      "Epoch 82/100\n",
      "5/5 [==============================] - 0s 3ms/step - loss: 9.0925e-09 - acc: 1.0000\n"
     ]
    },
    {
     "name": "stdout",
     "output_type": "stream",
     "text": [
      "Epoch 83/100\n",
      "5/5 [==============================] - 0s 3ms/step - loss: 8.5100e-09 - acc: 1.0000\n",
      "Epoch 84/100\n",
      "5/5 [==============================] - 0s 3ms/step - loss: 7.9907e-09 - acc: 1.0000\n",
      "Epoch 85/100\n",
      "5/5 [==============================] - 0s 2ms/step - loss: 7.5246e-09 - acc: 1.0000\n",
      "Epoch 86/100\n",
      "5/5 [==============================] - 0s 2ms/step - loss: 7.1049e-09 - acc: 1.0000\n",
      "Epoch 87/100\n",
      "5/5 [==============================] - 0s 2ms/step - loss: 6.7256e-09 - acc: 1.0000\n",
      "Epoch 88/100\n",
      "5/5 [==============================] - 0s 2ms/step - loss: 6.3813e-09 - acc: 1.0000\n",
      "Epoch 89/100\n",
      "5/5 [==============================] - 0s 2ms/step - loss: 6.0673e-09 - acc: 1.0000\n",
      "Epoch 90/100\n",
      "5/5 [==============================] - 0s 2ms/step - loss: 5.7804e-09 - acc: 1.0000\n",
      "Epoch 91/100\n",
      "5/5 [==============================] - 0s 2ms/step - loss: 5.5174e-09 - acc: 1.0000\n",
      "Epoch 92/100\n",
      "5/5 [==============================] - 0s 2ms/step - loss: 5.2754e-09 - acc: 1.0000\n",
      "Epoch 93/100\n",
      "5/5 [==============================] - 0s 2ms/step - loss: 5.0523e-09 - acc: 1.0000\n",
      "Epoch 94/100\n",
      "5/5 [==============================] - 0s 2ms/step - loss: 4.8457e-09 - acc: 1.0000\n",
      "Epoch 95/100\n",
      "5/5 [==============================] - 0s 2ms/step - loss: 4.6545e-09 - acc: 1.0000\n",
      "Epoch 96/100\n",
      "5/5 [==============================] - 0s 2ms/step - loss: 4.4765e-09 - acc: 1.0000\n",
      "Epoch 97/100\n",
      "5/5 [==============================] - 0s 2ms/step - loss: 4.3108e-09 - acc: 1.0000\n",
      "Epoch 98/100\n",
      "5/5 [==============================] - 0s 2ms/step - loss: 4.1561e-09 - acc: 1.0000\n",
      "Epoch 99/100\n",
      "5/5 [==============================] - 0s 2ms/step - loss: 4.0115e-09 - acc: 1.0000\n",
      "Epoch 100/100\n",
      "5/5 [==============================] - 0s 2ms/step - loss: 3.8760e-09 - acc: 1.0000\n"
     ]
    },
    {
     "data": {
      "text/plain": [
       "<tensorflow.python.keras.callbacks.History at 0x1a486643358>"
      ]
     },
     "execution_count": 13,
     "metadata": {},
     "output_type": "execute_result"
    }
   ],
   "source": [
    "model.fit(train_data,train_labels,epochs=100,batch_size=1,steps_per_epoch=5)"
   ]
  },
  {
   "cell_type": "code",
   "execution_count": null,
   "metadata": {},
   "outputs": [],
   "source": []
  },
  {
   "cell_type": "code",
   "execution_count": 14,
   "metadata": {},
   "outputs": [
    {
     "name": "stdout",
     "output_type": "stream",
     "text": [
      "100/100 [==============================] - 0s 1ms/sample - loss: 6.1971e-10 - acc: 1.0000\n"
     ]
    }
   ],
   "source": [
    "loss , accuracy = model.evaluate(test_data,test_labels)"
   ]
  },
  {
   "cell_type": "code",
   "execution_count": 15,
   "metadata": {},
   "outputs": [
    {
     "name": "stdout",
     "output_type": "stream",
     "text": [
      "1.0\n"
     ]
    }
   ],
   "source": [
    "print(accuracy)"
   ]
  },
  {
   "cell_type": "code",
   "execution_count": null,
   "metadata": {},
   "outputs": [],
   "source": []
  }
 ],
 "metadata": {
  "kernelspec": {
   "display_name": "Python 3",
   "language": "python",
   "name": "python3"
  },
  "language_info": {
   "codemirror_mode": {
    "name": "ipython",
    "version": 3
   },
   "file_extension": ".py",
   "mimetype": "text/x-python",
   "name": "python",
   "nbconvert_exporter": "python",
   "pygments_lexer": "ipython3",
   "version": "3.7.1"
  }
 },
 "nbformat": 4,
 "nbformat_minor": 2
}
