{
 "cells": [
  {
   "cell_type": "code",
   "execution_count": 5,
   "metadata": {},
   "outputs": [
    {
     "name": "stdout",
     "output_type": "stream",
     "text": [
      "2016 Volkswagen Beetle\n",
      "2016 Tesla Roadster\n",
      "This car has 50 miles on it.\n"
     ]
    }
   ],
   "source": [
    "from car import Car, ElectricCar\n",
    "my_beetle = Car('volkswagen', 'beetle', 2016)\n",
    "print(my_beetle.get_descriptive_name())\n",
    "my_tesla = ElectricCar('tesla', 'roadster', 2016)\n",
    "print(my_tesla.get_descriptive_name())\n",
    "my_tesla.update_odometer(50)\n",
    "my_tesla.read_odometer()"
   ]
  },
  {
   "cell_type": "code",
   "execution_count": 6,
   "metadata": {},
   "outputs": [
    {
     "name": "stdout",
     "output_type": "stream",
     "text": [
      "This car has 100 miles on it.\n"
     ]
    }
   ],
   "source": [
    "my_tesla.increment_odometer(50)\n",
    "my_tesla.read_odometer()"
   ]
  },
  {
   "cell_type": "code",
   "execution_count": 7,
   "metadata": {},
   "outputs": [
    {
     "name": "stdout",
     "output_type": "stream",
     "text": [
      "Kindly fill your gas tank!\n",
      "This car doesn't need a gas tank!\n"
     ]
    }
   ],
   "source": [
    "my_beetle.fill_gas_tank()\n",
    "my_tesla.fill_gas_tank()"
   ]
  },
  {
   "cell_type": "markdown",
   "metadata": {},
   "source": [
    "# Files and Exceptions"
   ]
  },
  {
   "cell_type": "code",
   "execution_count": 14,
   "metadata": {},
   "outputs": [
    {
     "name": "stdout",
     "output_type": "stream",
     "text": [
      "3.1415926535\n",
      "8979323846\n",
      "2643383279\n"
     ]
    }
   ],
   "source": []
  },
  {
   "cell_type": "code",
   "execution_count": 11,
   "metadata": {},
   "outputs": [],
   "source": [
    "with open(\"whatever.txt\",'w') as file: #'w' bata raha he k file write mode me he, if file does not exist it will create by its own\n",
    "    file.write('Hello Python')"
   ]
  },
  {
   "cell_type": "code",
   "execution_count": 12,
   "metadata": {},
   "outputs": [
    {
     "name": "stdout",
     "output_type": "stream",
     "text": [
      "Hello Python\n"
     ]
    }
   ],
   "source": [
    "with open('whatever.txt','r') as file1: #'r' bata raha hek file read mode me he\n",
    "    print(file1.read())"
   ]
  },
  {
   "cell_type": "code",
   "execution_count": 13,
   "metadata": {},
   "outputs": [],
   "source": [
    "#agar same file ko dubara write karenge to wo over write ho jaegi, update k liye append use karenge"
   ]
  },
  {
   "cell_type": "code",
   "execution_count": 14,
   "metadata": {},
   "outputs": [],
   "source": [
    "with open(\"whatever.txt\",'a') as file: # 'a' se file append mode me chali jaegi, only write in append\n",
    "    file.write('\\n123456789')"
   ]
  },
  {
   "cell_type": "code",
   "execution_count": 15,
   "metadata": {},
   "outputs": [
    {
     "name": "stdout",
     "output_type": "stream",
     "text": [
      "Hello Python\n",
      "123456789\n"
     ]
    }
   ],
   "source": [
    "with open('whatever.txt','r') as file1: #'r' bata raha hek file read mode me he\n",
    "    print(file1.read())"
   ]
  },
  {
   "cell_type": "code",
   "execution_count": 37,
   "metadata": {},
   "outputs": [],
   "source": [
    "with open('new_file.txt','w') as new:\n",
    "    new.write('Artificial Intelligence')"
   ]
  },
  {
   "cell_type": "code",
   "execution_count": 40,
   "metadata": {},
   "outputs": [
    {
     "name": "stdout",
     "output_type": "stream",
     "text": [
      "\n",
      "Machine Learninggence\n"
     ]
    }
   ],
   "source": [
    "with open('new_file.txt','r+') as new: #r+ will work in write and read both mode, but it will not create file it self\n",
    "    new.write('\\nMachine Learning')\n",
    "    new.seek(0) #r+ me cursor aage move hojata he aur read wahin se show karta he magar seek ka function usay zero index pe le jaega\n",
    "    print(new.read())"
   ]
  },
  {
   "cell_type": "code",
   "execution_count": 6,
   "metadata": {},
   "outputs": [
    {
     "name": "stdout",
     "output_type": "stream",
     "text": [
      "3.1415926535\n",
      "8979323846\n",
      "2643383279\n",
      "34\n"
     ]
    }
   ],
   "source": [
    "with open ('pi_digits.txt') as file_object:\n",
    "    contents=file_object.read()\n",
    "    print(contents)\n",
    "print(len(contents))    "
   ]
  },
  {
   "cell_type": "code",
   "execution_count": 8,
   "metadata": {},
   "outputs": [
    {
     "name": "stdout",
     "output_type": "stream",
     "text": [
      "3.1415926535\n",
      "8979323846\n",
      "2643383279\n"
     ]
    }
   ],
   "source": [
    "print(contents.rstrip())"
   ]
  },
  {
   "cell_type": "code",
   "execution_count": 18,
   "metadata": {},
   "outputs": [
    {
     "name": "stdout",
     "output_type": "stream",
     "text": [
      "3.1415926535\n",
      "\n",
      "8979323846\n",
      "\n",
      "2643383279\n"
     ]
    }
   ],
   "source": [
    "filename='pi_digits.txt'\n",
    "with open(filename) as file_object:\n",
    "    for line in file_object:\n",
    "        print(line)"
   ]
  },
  {
   "cell_type": "code",
   "execution_count": 19,
   "metadata": {},
   "outputs": [
    {
     "name": "stdout",
     "output_type": "stream",
     "text": [
      "3.1415926535\n",
      "8979323846\n",
      "2643383279\n"
     ]
    }
   ],
   "source": [
    "filename='pi_digits.txt'\n",
    "with open(filename) as file_object:\n",
    "    lines=file_object.readlines()\n",
    "for line in lines:\n",
    "    print(line.rstrip())"
   ]
  },
  {
   "cell_type": "code",
   "execution_count": 25,
   "metadata": {},
   "outputs": [
    {
     "name": "stdout",
     "output_type": "stream",
     "text": [
      "<class 'list'>\n",
      "2643383279\n"
     ]
    }
   ],
   "source": [
    "print(type(lines))\n",
    "print(lines[2])"
   ]
  },
  {
   "cell_type": "code",
   "execution_count": 33,
   "metadata": {},
   "outputs": [
    {
     "name": "stdout",
     "output_type": "stream",
     "text": [
      "3.141592653589793238462643383279\n",
      "32\n"
     ]
    }
   ],
   "source": [
    "filename='pi_digits.txt'\n",
    "with open(filename) as file_object:\n",
    "    lines=file_object.readlines()\n",
    "pi_string=''\n",
    "for line in lines:\n",
    "    pi_string+=line.strip()\n",
    "print(pi_string)\n",
    "print(len(pi_string))"
   ]
  },
  {
   "cell_type": "code",
   "execution_count": 35,
   "metadata": {},
   "outputs": [],
   "source": [
    "filename=\"programming.txt\"\n",
    "with open(filename,'w') as f_object:\n",
    "    f_object.write('I Love Programming')\n",
    "    f_object.write('I Love Programming')"
   ]
  },
  {
   "cell_type": "code",
   "execution_count": 36,
   "metadata": {},
   "outputs": [
    {
     "name": "stdout",
     "output_type": "stream",
     "text": [
      "I Love ProgrammingI Love Programming\n"
     ]
    }
   ],
   "source": [
    "with open(filename,'r') as f_object:\n",
    "    print(f_object.read())"
   ]
  },
  {
   "cell_type": "markdown",
   "metadata": {},
   "source": [
    "# Exception"
   ]
  },
  {
   "cell_type": "code",
   "execution_count": 37,
   "metadata": {},
   "outputs": [
    {
     "ename": "ZeroDivisionError",
     "evalue": "division by zero",
     "output_type": "error",
     "traceback": [
      "\u001b[1;31m---------------------------------------------------------------------------\u001b[0m",
      "\u001b[1;31mZeroDivisionError\u001b[0m                         Traceback (most recent call last)",
      "\u001b[1;32m<ipython-input-37-f91dedcf3dfd>\u001b[0m in \u001b[0;36m<module>\u001b[1;34m\u001b[0m\n\u001b[1;32m----> 1\u001b[1;33m \u001b[1;36m5\u001b[0m\u001b[1;33m/\u001b[0m\u001b[1;36m0\u001b[0m\u001b[1;33m\u001b[0m\u001b[1;33m\u001b[0m\u001b[0m\n\u001b[0m\u001b[0;32m      2\u001b[0m \u001b[0mprint\u001b[0m\u001b[1;33m(\u001b[0m\u001b[1;34m'hello'\u001b[0m\u001b[1;33m)\u001b[0m\u001b[1;33m\u001b[0m\u001b[1;33m\u001b[0m\u001b[0m\n",
      "\u001b[1;31mZeroDivisionError\u001b[0m: division by zero"
     ]
    }
   ],
   "source": [
    "5/0 #jab exception raise hogi to aage code run nhi hoga\n",
    "print('hello')"
   ]
  },
  {
   "cell_type": "code",
   "execution_count": 40,
   "metadata": {},
   "outputs": [
    {
     "name": "stdout",
     "output_type": "stream",
     "text": [
      "Enter a no:2\n",
      "Enter b no:2\n",
      "1.0\n"
     ]
    }
   ],
   "source": [
    "a=int(input('Enter a no:'))\n",
    "b=int(input('Enter b no:'))\n",
    "try: #jahan hamen lage k exception raise ho sakti he us jaga ko try k indent me rakhenge\n",
    "    c=a/b\n",
    "    print(c)\n",
    "except ZeroDivisionError: #yahan error ka name aayega\n",
    "    print('Exception is Caught Zero Division Error')"
   ]
  },
  {
   "cell_type": "code",
   "execution_count": 42,
   "metadata": {},
   "outputs": [
    {
     "name": "stdout",
     "output_type": "stream",
     "text": [
      "Enter a no:5\n",
      "Enter b no:2\n",
      "2.5\n"
     ]
    }
   ],
   "source": [
    "a=int(input('Enter a no:'))\n",
    "b=int(input('Enter b no:'))\n",
    "try: #jahan hamen lage k exception raise ho sakti he us jaga ko try k indent me rakhenge\n",
    "    c=a/b\n",
    "except ZeroDivisionError: #yahan error ka name aayega\n",
    "    print('Exception is Caught Zero Division Error')\n",
    "else:\n",
    "    print(c)"
   ]
  },
  {
   "cell_type": "code",
   "execution_count": 45,
   "metadata": {},
   "outputs": [
    {
     "name": "stdout",
     "output_type": "stream",
     "text": [
      "Enter a no:5\n",
      "Enter b no:2\n",
      "2\n",
      "No Exception is found\n"
     ]
    }
   ],
   "source": [
    "a=int(input('Enter a no:'))\n",
    "b=int(input('Enter b no:'))\n",
    "try: #jahan hamen lage k exception raise ho sakti he us jaga ko try k indent me rakhenge\n",
    "    c=a//b\n",
    "    print(c)\n",
    "except ZeroDivisionError: #yahan error ka name aayega\n",
    "    print('Exception is Caught Zero Division Error')\n",
    "else:\n",
    "    print('No Exception is found')"
   ]
  },
  {
   "cell_type": "code",
   "execution_count": 46,
   "metadata": {},
   "outputs": [
    {
     "name": "stdout",
     "output_type": "stream",
     "text": [
      "Enter a no:2\n",
      "Enter b no:2\n"
     ]
    },
    {
     "ename": "IndexError",
     "evalue": "list index out of range",
     "output_type": "error",
     "traceback": [
      "\u001b[1;31m---------------------------------------------------------------------------\u001b[0m",
      "\u001b[1;31mIndexError\u001b[0m                                Traceback (most recent call last)",
      "\u001b[1;32m<ipython-input-46-962ce833e272>\u001b[0m in \u001b[0;36m<module>\u001b[1;34m\u001b[0m\n\u001b[0;32m      4\u001b[0m \u001b[1;32mtry\u001b[0m\u001b[1;33m:\u001b[0m \u001b[1;31m#jahan hamen lage k exception raise ho sakti he us jaga ko try k indent me rakhenge\u001b[0m\u001b[1;33m\u001b[0m\u001b[1;33m\u001b[0m\u001b[0m\n\u001b[0;32m      5\u001b[0m     \u001b[0mc\u001b[0m\u001b[1;33m=\u001b[0m\u001b[0ma\u001b[0m\u001b[1;33m//\u001b[0m\u001b[0mb\u001b[0m\u001b[1;33m\u001b[0m\u001b[1;33m\u001b[0m\u001b[0m\n\u001b[1;32m----> 6\u001b[1;33m     \u001b[0me\u001b[0m\u001b[1;33m=\u001b[0m\u001b[0md\u001b[0m\u001b[1;33m[\u001b[0m\u001b[1;36m5\u001b[0m\u001b[1;33m]\u001b[0m\u001b[1;33m\u001b[0m\u001b[1;33m\u001b[0m\u001b[0m\n\u001b[0m\u001b[0;32m      7\u001b[0m     \u001b[0mprint\u001b[0m\u001b[1;33m(\u001b[0m\u001b[0me\u001b[0m\u001b[1;33m)\u001b[0m\u001b[1;33m\u001b[0m\u001b[1;33m\u001b[0m\u001b[0m\n\u001b[0;32m      8\u001b[0m \u001b[1;32mexcept\u001b[0m \u001b[0mZeroDivisionError\u001b[0m\u001b[1;33m:\u001b[0m \u001b[1;31m#yahan error ka name aayega\u001b[0m\u001b[1;33m\u001b[0m\u001b[1;33m\u001b[0m\u001b[0m\n",
      "\u001b[1;31mIndexError\u001b[0m: list index out of range"
     ]
    }
   ],
   "source": [
    "a=int(input('Enter a no:'))\n",
    "b=int(input('Enter b no:'))\n",
    "d=[]\n",
    "try: #jahan hamen lage k exception raise ho sakti he us jaga ko try k indent me rakhenge\n",
    "    c=a//b\n",
    "    e=d[5]\n",
    "    print(e)\n",
    "except ZeroDivisionError: #yahan error ka name aayega\n",
    "    print('Handled Zero Division Error')\n",
    "else:\n",
    "    print(c)"
   ]
  },
  {
   "cell_type": "code",
   "execution_count": 50,
   "metadata": {},
   "outputs": [
    {
     "name": "stdout",
     "output_type": "stream",
     "text": [
      "Enter a no:5\n",
      "Enter b no:2\n",
      "Exception is caught list index out of range\n"
     ]
    }
   ],
   "source": [
    "a=int(input('Enter a no:'))\n",
    "b=int(input('Enter b no:'))\n",
    "d=[]\n",
    "try: #jahan hamen lage k exception raise ho sakti he us jaga ko try k indent me rakhenge\n",
    "    c=a//b\n",
    "    e=d[5]\n",
    "    print(e)\n",
    "except ZeroDivisionError: #yahan error ka name aayega\n",
    "    print('Handled Zero Division Error')\n",
    "except IndexError: #yahan error ka name aayega\n",
    "    print('Exception is caught list index out of range')\n",
    "else:\n",
    "    print(c)\n",
    "    print(e)"
   ]
  },
  {
   "cell_type": "code",
   "execution_count": 54,
   "metadata": {},
   "outputs": [
    {
     "name": "stdout",
     "output_type": "stream",
     "text": [
      "first\n",
      "Enter a no:2\n",
      "Enter b no:0\n",
      "Handled Zero Division Error\n",
      "last\n"
     ]
    }
   ],
   "source": [
    "print('first')\n",
    "a=int(input('Enter a no:'))\n",
    "b=int(input('Enter b no:'))\n",
    "try: #jahan hamen lage k exception raise ho sakti he us jaga ko try k indent me rakhenge\n",
    "    c=a//b\n",
    "except ZeroDivisionError: #yahan error ka name aayega\n",
    "    print('Handled Zero Division Error')\n",
    "else:\n",
    "    print(c)\n",
    "print('last') #else k bad wali cheez print hojaegi"
   ]
  },
  {
   "cell_type": "code",
   "execution_count": 59,
   "metadata": {},
   "outputs": [
    {
     "name": "stdout",
     "output_type": "stream",
     "text": [
      "Enter a no:5\n",
      "Enter b no:0\n",
      "Exception is Caught\n"
     ]
    }
   ],
   "source": [
    "a=int(input('Enter a no:'))\n",
    "b=int(input('Enter b no:'))\n",
    "d=[]\n",
    "try: #jahan hamen lage k exception raise ho sakti he us jaga ko try k indent me rakhenge\n",
    "    c=a//b\n",
    "    print(c)\n",
    "    e=d[5]\n",
    "    print(e)\n",
    "    \n",
    "except:  #yahan hamne error ka naam nahi likha koi b error aayega to wo pakar lega lekinpata nahi chalega kon si pakri\n",
    "    print('Exception is Caught')"
   ]
  },
  {
   "cell_type": "code",
   "execution_count": 65,
   "metadata": {},
   "outputs": [
    {
     "ename": "SyntaxError",
     "evalue": "invalid syntax (<ipython-input-65-146b6e403d16>, line 12)",
     "output_type": "error",
     "traceback": [
      "\u001b[1;36m  File \u001b[1;32m\"<ipython-input-65-146b6e403d16>\"\u001b[1;36m, line \u001b[1;32m12\u001b[0m\n\u001b[1;33m    finally:\u001b[0m\n\u001b[1;37m          ^\u001b[0m\n\u001b[1;31mSyntaxError\u001b[0m\u001b[1;31m:\u001b[0m invalid syntax\n"
     ]
    }
   ],
   "source": [
    "try:\n",
    "    a=int(input('Enter a no:'))\n",
    "    b=int(input('Enter b no:'))\n",
    "    d=[]\n",
    "    c=a/b\n",
    "    f=d[5]\n",
    "except Exception as e: #is tariqe jo b exception hogi us k msg aa jayega, ab koi specific batane ki zarurat nahi\n",
    "    print('Handle Error='+str(e))\n",
    "else:\n",
    "    print(c)\n",
    "print('Hello World')"
   ]
  },
  {
   "cell_type": "code",
   "execution_count": 68,
   "metadata": {},
   "outputs": [
    {
     "name": "stdout",
     "output_type": "stream",
     "text": [
      "Enter a no:5\n",
      "Enter b no:5\n",
      "Finally will always run\n"
     ]
    },
    {
     "ename": "IndexError",
     "evalue": "list index out of range",
     "output_type": "error",
     "traceback": [
      "\u001b[1;31m---------------------------------------------------------------------------\u001b[0m",
      "\u001b[1;31mIndexError\u001b[0m                                Traceback (most recent call last)",
      "\u001b[1;32m<ipython-input-68-6749b2e50528>\u001b[0m in \u001b[0;36m<module>\u001b[1;34m\u001b[0m\n\u001b[0;32m      4\u001b[0m \u001b[1;32mtry\u001b[0m\u001b[1;33m:\u001b[0m\u001b[1;33m\u001b[0m\u001b[1;33m\u001b[0m\u001b[0m\n\u001b[0;32m      5\u001b[0m     \u001b[0mc\u001b[0m\u001b[1;33m=\u001b[0m\u001b[0ma\u001b[0m\u001b[1;33m/\u001b[0m\u001b[0mb\u001b[0m\u001b[1;33m\u001b[0m\u001b[1;33m\u001b[0m\u001b[0m\n\u001b[1;32m----> 6\u001b[1;33m     \u001b[0mf\u001b[0m\u001b[1;33m=\u001b[0m\u001b[0md\u001b[0m\u001b[1;33m[\u001b[0m\u001b[1;36m5\u001b[0m\u001b[1;33m]\u001b[0m\u001b[1;33m\u001b[0m\u001b[1;33m\u001b[0m\u001b[0m\n\u001b[0m\u001b[0;32m      7\u001b[0m \u001b[1;32mexcept\u001b[0m \u001b[0mZeroDivisionError\u001b[0m\u001b[1;33m:\u001b[0m\u001b[1;33m\u001b[0m\u001b[1;33m\u001b[0m\u001b[0m\n\u001b[0;32m      8\u001b[0m     \u001b[0mprint\u001b[0m\u001b[1;33m(\u001b[0m\u001b[1;34m'Handel Zero Error'\u001b[0m\u001b[1;33m)\u001b[0m\u001b[1;33m\u001b[0m\u001b[1;33m\u001b[0m\u001b[0m\n",
      "\u001b[1;31mIndexError\u001b[0m: list index out of range"
     ]
    }
   ],
   "source": [
    "a=int(input('Enter a no:'))\n",
    "b=int(input('Enter b no:'))\n",
    "d=[]\n",
    "try:\n",
    "    c=a/b\n",
    "    f=d[5]\n",
    "except ZeroDivisionError:\n",
    "    print('Handel Zero Error')\n",
    "#except Exception as e: general exception hamesha end me likhenge\n",
    "    print('Handle Error='+str(e))\n",
    "else:\n",
    "    print(c)\n",
    "finally: #finally hamesha chalega, code crash ho jaye phr b chalega\n",
    "    print('Finally will always run')"
   ]
  },
  {
   "cell_type": "markdown",
   "metadata": {},
   "source": [
    "# Raising Our Own Exception"
   ]
  },
  {
   "cell_type": "markdown",
   "metadata": {},
   "source": [
    "We can raise our own exception based on our own needs"
   ]
  },
  {
   "cell_type": "code",
   "execution_count": 82,
   "metadata": {},
   "outputs": [],
   "source": [
    "class Student():\n",
    "    def __init__(self,name,age):\n",
    "        if age>80 or age <16:\n",
    "            raise Exception('Age Can not be greater than 80 or less than 16')\n",
    "        self.name=name\n",
    "        self.age=age"
   ]
  },
  {
   "cell_type": "code",
   "execution_count": 84,
   "metadata": {},
   "outputs": [
    {
     "ename": "Exception",
     "evalue": "Age Can not be greater than 80 or less than 16",
     "output_type": "error",
     "traceback": [
      "\u001b[1;31m---------------------------------------------------------------------------\u001b[0m",
      "\u001b[1;31mException\u001b[0m                                 Traceback (most recent call last)",
      "\u001b[1;32m<ipython-input-84-ded44813bfc8>\u001b[0m in \u001b[0;36m<module>\u001b[1;34m\u001b[0m\n\u001b[1;32m----> 1\u001b[1;33m \u001b[0mstu\u001b[0m \u001b[1;33m=\u001b[0m \u001b[0mStudent\u001b[0m\u001b[1;33m(\u001b[0m\u001b[1;34m'Jahanzaib'\u001b[0m\u001b[1;33m,\u001b[0m\u001b[1;36m81\u001b[0m\u001b[1;33m)\u001b[0m\u001b[1;33m\u001b[0m\u001b[1;33m\u001b[0m\u001b[0m\n\u001b[0m",
      "\u001b[1;32m<ipython-input-82-57d1efdb5c78>\u001b[0m in \u001b[0;36m__init__\u001b[1;34m(self, name, age)\u001b[0m\n\u001b[0;32m      2\u001b[0m     \u001b[1;32mdef\u001b[0m \u001b[0m__init__\u001b[0m\u001b[1;33m(\u001b[0m\u001b[0mself\u001b[0m\u001b[1;33m,\u001b[0m\u001b[0mname\u001b[0m\u001b[1;33m,\u001b[0m\u001b[0mage\u001b[0m\u001b[1;33m)\u001b[0m\u001b[1;33m:\u001b[0m\u001b[1;33m\u001b[0m\u001b[1;33m\u001b[0m\u001b[0m\n\u001b[0;32m      3\u001b[0m         \u001b[1;32mif\u001b[0m \u001b[0mage\u001b[0m\u001b[1;33m>\u001b[0m\u001b[1;36m80\u001b[0m \u001b[1;32mor\u001b[0m \u001b[0mage\u001b[0m \u001b[1;33m<\u001b[0m\u001b[1;36m16\u001b[0m\u001b[1;33m:\u001b[0m\u001b[1;33m\u001b[0m\u001b[1;33m\u001b[0m\u001b[0m\n\u001b[1;32m----> 4\u001b[1;33m             \u001b[1;32mraise\u001b[0m \u001b[0mException\u001b[0m\u001b[1;33m(\u001b[0m\u001b[1;34m'Age Can not be greater than 80 or less than 16'\u001b[0m\u001b[1;33m)\u001b[0m\u001b[1;33m\u001b[0m\u001b[1;33m\u001b[0m\u001b[0m\n\u001b[0m\u001b[0;32m      5\u001b[0m         \u001b[0mself\u001b[0m\u001b[1;33m.\u001b[0m\u001b[0mname\u001b[0m\u001b[1;33m=\u001b[0m\u001b[0mname\u001b[0m\u001b[1;33m\u001b[0m\u001b[1;33m\u001b[0m\u001b[0m\n\u001b[0;32m      6\u001b[0m         \u001b[0mself\u001b[0m\u001b[1;33m.\u001b[0m\u001b[0mage\u001b[0m\u001b[1;33m=\u001b[0m\u001b[0mage\u001b[0m\u001b[1;33m\u001b[0m\u001b[1;33m\u001b[0m\u001b[0m\n",
      "\u001b[1;31mException\u001b[0m: Age Can not be greater than 80 or less than 16"
     ]
    }
   ],
   "source": [
    "stu = Student('Jahanzaib',81)"
   ]
  },
  {
   "cell_type": "code",
   "execution_count": 86,
   "metadata": {},
   "outputs": [
    {
     "name": "stdout",
     "output_type": "stream",
     "text": [
      "Enter Students Age:25\n",
      "25\n"
     ]
    }
   ],
   "source": [
    "age=int(input('Enter Students Age:'))\n",
    "st=Student('ABC',age)\n",
    "print(st.age)"
   ]
  },
  {
   "cell_type": "code",
   "execution_count": 93,
   "metadata": {},
   "outputs": [
    {
     "name": "stdout",
     "output_type": "stream",
     "text": [
      "Enter Students Age:10\n",
      "Raised Exception: Age Can not be greater than 80 or less than 16\n"
     ]
    }
   ],
   "source": [
    "try:\n",
    "    age=int(input('Enter Students Age:'))\n",
    "    st=Student('ABC',age)\n",
    "except Exception as e:\n",
    "    print('Raised Exception: '+str(e))\n",
    "else:\n",
    "    print(st.age)"
   ]
  },
  {
   "cell_type": "code",
   "execution_count": null,
   "metadata": {},
   "outputs": [],
   "source": []
  }
 ],
 "metadata": {
  "kernelspec": {
   "display_name": "Python 3",
   "language": "python",
   "name": "python3"
  },
  "language_info": {
   "codemirror_mode": {
    "name": "ipython",
    "version": 3
   },
   "file_extension": ".py",
   "mimetype": "text/x-python",
   "name": "python",
   "nbconvert_exporter": "python",
   "pygments_lexer": "ipython3",
   "version": "3.7.1"
  }
 },
 "nbformat": 4,
 "nbformat_minor": 2
}
